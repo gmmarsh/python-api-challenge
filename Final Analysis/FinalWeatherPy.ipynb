{
 "cells": [
  {
   "cell_type": "markdown",
   "metadata": {},
   "source": [
    "WeatherPY"
   ]
  },
  {
   "cell_type": "code",
   "execution_count": 8,
   "metadata": {},
   "outputs": [],
   "source": [
    "# dependencies\n",
    "import matplotlib.pyplot as plt\n",
    "import pandas as pd\n",
    "import numpy as np \n",
    "import requests\n",
    "from scipy.stats import linregress\n",
    "from citipy import citipy\n",
    "import json\n",
    "import time\n",
    "import os\n",
    "from datetime import datetime\n",
    "\n",
    "\n",
    "\n",
    "\n"
   ]
  },
  {
   "cell_type": "code",
   "execution_count": null,
   "metadata": {},
   "outputs": [],
   "source": [
    "# import the OpenWeatherMap API key\n",
    "import open_weather_API_key\n",
    "\n",
    "# define the base URL for the OpenWeatherMap API\n",
    "base_url = \"http://api.openweathermap.org/data/2.5/weather?\"\n",
    "\n",
    "# define the units for the temperature\n",
    "units = \"metric\"\n",
    "\n",
    "# define the units for the humidity\n",
    "humidity_units = \"%\"\n",
    "\n",
    "# define the units for the wind speed\n",
    "wind_units = \"m/s\"\n",
    "\n",
    "# define the units for the cloudiness\n",
    "cloud_units = \"%\"\n",
    "\n"
   ]
  },
  {
   "cell_type": "markdown",
   "metadata": {},
   "source": [
    "Generate the Cities List by Using citipy Library"
   ]
  },
  {
   "cell_type": "code",
   "execution_count": null,
   "metadata": {},
   "outputs": [],
   "source": [
    "# empty list for holding the latitude and longitude combinations\n",
    "lat_lngs = []\n",
    "\n",
    "# empty list for holding the cities\n",
    "cities = []\n",
    "\n",
    "# range of latitudes and longitudes\n",
    "lat_range = (-90, 90)\n",
    "lng_range = (-180, 180)\n",
    "\n",
    "# create a set of random latitude and longitude combinations\n",
    "lats = np.random.uniform(lat_range[0], lat_range[1], size=1500)\n",
    "lngs = np.random.uniform(lng_range[0], lng_range[1], size=1500)\n",
    "lat_lngs = zip(lats, lngs)\n",
    "\n",
    "# identify the nearest city for each latitude and longitude combination\n",
    "for lat_lng in lat_lngs:\n",
    "    city = citipy.nearest_city(lat_lng[0], lat_lng[1]).city_name\n",
    "    \n",
    "    # if the city is unique, then add it to the cities list\n",
    "    if city not in cities:\n",
    "        cities.append(city)\n",
    "\n",
    "# print the city count to confirm sufficient count\n",
    "print(len(cities))"
   ]
  },
  {
   "cell_type": "markdown",
   "metadata": {},
   "source": [
    "Requirement 1: Create Plots to Showcase the Relationship Between Weather Variables and Latitude\n",
    "\n",
    "Use the OpenWeatherMap API to retrieve weather data from the cities list generated in the started code"
   ]
  },
  {
   "cell_type": "code",
   "execution_count": null,
   "metadata": {},
   "outputs": [],
   "source": [
    "# set the API base URL\n",
    "base_url = \"http://api.openweathermap.org/data/2.5/weather?\"\n",
    "\n",
    "# set the units for the temperature\n",
    "units = \"metric\"\n",
    "\n",
    "# set the units for the humidity\n",
    "humidity_units = \"%\"\n",
    "\n",
    "# set the units for the wind speed\n",
    "wind_units = \"m/s\"\n",
    "\n",
    "# set the units for the cloudiness\n",
    "cloud_units = \"%\"\n",
    "\n",
    "# create an empty list to hold the weather data for each city\n",
    "city_data = []\n",
    "\n",
    "# print to logger\n",
    "print(\"Beginning Data Retrieval     \")\n",
    "print(\"-----------------------------\")\n",
    "\n",
    "# create counters\n",
    "record_count = 1\n",
    "set_count = 1\n",
    "\n",
    "# loop through all the cities in the list to fetch weather data\n",
    "for i, city in enumerate(cities):\n",
    "        \n",
    "    # group cities in sets of 50 for logging purposes\n",
    "    if (i % 50 == 0 and i >= 50):\n",
    "        set_count += 1\n",
    "        record_count = 0\n",
    "\n",
    "    # create the endpoint URL\n",
    "    city_url = f\"{base_url}q={city}&appid={open_weather_API_key.api_key}&units={units}\"\n",
    "\n",
    "    # log the URL, record, and set numbers and the city\n",
    "    print(f\"Processing Record {record_count} of Set {set_count} | {city}\")\n",
    "    \n",
    "    # add 1 to the record count\n",
    "    record_count += 1\n",
    "\n",
    "    # run an API request for each of the cities\n",
    "    try:\n",
    "        # parse the JSON and retrieve data\n",
    "        city_weather = requests.get(city_url).json()\n",
    "\n",
    "        # parse out latitude, longitude, maximum temperature, humidity, cloudiness, wind speed, country and date\n",
    "        city_lat = city_weather[\"coord\"][\"lat\"]\n",
    "        city_lng = city_weather[\"coord\"][\"lon\"]\n",
    "        city_max_temp = city_weather[\"main\"][\"temp_max\"]\n",
    "        city_humidity = city_weather[\"main\"][\"humidity\"]\n",
    "        city_country = city_weather[\"sys\"][\"country\"]\n",
    "        city_wind_speed = city_weather[\"wind\"][\"speed\"]\n",
    "        city_clouds = city_weather[\"clouds\"][\"all\"]\n",
    "        city_date = city_weather[\"dt\"]\n",
    "\n",
    "    # append the city information into city_data list\n",
    "        city_data.append({\"City\": city.title(),\n",
    "                          \"Lat\": city_lat,\n",
    "                          \"Lng\": city_lng,\n",
    "                          \"Max Temp\": city_max_temp,\n",
    "                          \"Humidity\": city_humidity,\n",
    "                          \"Cloudiness\": city_clouds,\n",
    "                          \"Wind Speed\": city_wind_speed,\n",
    "                          \"Country\": city_country,\n",
    "                          \"Date\": city_date})\n",
    "    \n",
    "    # if an error is experienced, skip the city\n",
    "    except:\n",
    "        print(\"City not found. Skipping...\")\n",
    "        pass\n",
    "\n",
    "# indicate that data loading is complete\n",
    "print(\"-----------------------------\")\n",
    "print(\"Data Retrieval Complete      \")\n",
    "print(\"-----------------------------\")"
   ]
  },
  {
   "cell_type": "code",
   "execution_count": null,
   "metadata": {},
   "outputs": [],
   "source": [
    "# convert the city data into a DataFrame\n",
    "city_data_df = pd.DataFrame(city_data)\n",
    "\n",
    "# show the record count\n",
    "city_data_df.count()"
   ]
  },
  {
   "cell_type": "code",
   "execution_count": null,
   "metadata": {},
   "outputs": [],
   "source": [
    "# display the sample data\n",
    "city_data_df.head(10)"
   ]
  },
  {
   "cell_type": "code",
   "execution_count": null,
   "metadata": {},
   "outputs": [],
   "source": [
    "# export the city data into a CSV\n",
    "city_data_df.to_csv(\"WeatherPy_Database.csv\", index_label=\"City_ID\")"
   ]
  },
  {
   "cell_type": "code",
   "execution_count": null,
   "metadata": {},
   "outputs": [],
   "source": [
    "# read saved data\n",
    "city_data_df = pd.read_csv(\"WeatherPy_Database.csv\", index_col=\"City_ID\")\n",
    "\n",
    "# display sample data\n",
    "city_data_df.head(10)"
   ]
  }
 ],
 "metadata": {
  "kernelspec": {
   "display_name": "dev",
   "language": "python",
   "name": "python3"
  },
  "language_info": {
   "codemirror_mode": {
    "name": "ipython",
    "version": 3
   },
   "file_extension": ".py",
   "mimetype": "text/x-python",
   "name": "python",
   "nbconvert_exporter": "python",
   "pygments_lexer": "ipython3",
   "version": "3.9.6"
  }
 },
 "nbformat": 4,
 "nbformat_minor": 2
}
