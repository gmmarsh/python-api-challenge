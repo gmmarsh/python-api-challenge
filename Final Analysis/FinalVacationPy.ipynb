{
 "cells": [
  {
   "cell_type": "markdown",
   "metadata": {},
   "source": [
    "VacationPy"
   ]
  },
  {
   "cell_type": "code",
   "execution_count": 4,
   "metadata": {},
   "outputs": [],
   "source": [
    "# dependencies\n",
    "import hvplot.pandas\n",
    "import pandas as pd\n",
    "import requests\n",
    "import json"
   ]
  },
  {
   "cell_type": "code",
   "execution_count": 5,
   "metadata": {},
   "outputs": [],
   "source": [
    "# import API key\n",
    "from api_keys import geoapify_api_key"
   ]
  },
  {
   "cell_type": "code",
   "execution_count": 6,
   "metadata": {},
   "outputs": [
    {
     "data": {
      "text/html": [
       "<div>\n",
       "<style scoped>\n",
       "    .dataframe tbody tr th:only-of-type {\n",
       "        vertical-align: middle;\n",
       "    }\n",
       "\n",
       "    .dataframe tbody tr th {\n",
       "        vertical-align: top;\n",
       "    }\n",
       "\n",
       "    .dataframe thead th {\n",
       "        text-align: right;\n",
       "    }\n",
       "</style>\n",
       "<table border=\"1\" class=\"dataframe\">\n",
       "  <thead>\n",
       "    <tr style=\"text-align: right;\">\n",
       "      <th></th>\n",
       "      <th>City_ID</th>\n",
       "      <th>City</th>\n",
       "      <th>Lat</th>\n",
       "      <th>Lng</th>\n",
       "      <th>Max Temp</th>\n",
       "      <th>Humidity</th>\n",
       "      <th>Cloudiness</th>\n",
       "      <th>Wind Speed</th>\n",
       "      <th>Country</th>\n",
       "      <th>Date</th>\n",
       "    </tr>\n",
       "  </thead>\n",
       "  <tbody>\n",
       "    <tr>\n",
       "      <th>0</th>\n",
       "      <td>0</td>\n",
       "      <td>Olonkinbyen</td>\n",
       "      <td>70.9221</td>\n",
       "      <td>-8.7187</td>\n",
       "      <td>-2.64</td>\n",
       "      <td>62</td>\n",
       "      <td>6</td>\n",
       "      <td>4.46</td>\n",
       "      <td>SJ</td>\n",
       "      <td>1707490169</td>\n",
       "    </tr>\n",
       "    <tr>\n",
       "      <th>1</th>\n",
       "      <td>1</td>\n",
       "      <td>Mogadishu</td>\n",
       "      <td>2.0371</td>\n",
       "      <td>45.3438</td>\n",
       "      <td>28.93</td>\n",
       "      <td>79</td>\n",
       "      <td>0</td>\n",
       "      <td>7.72</td>\n",
       "      <td>SO</td>\n",
       "      <td>1707490169</td>\n",
       "    </tr>\n",
       "    <tr>\n",
       "      <th>2</th>\n",
       "      <td>2</td>\n",
       "      <td>Port-Aux-Francais</td>\n",
       "      <td>-49.3500</td>\n",
       "      <td>70.2167</td>\n",
       "      <td>7.28</td>\n",
       "      <td>92</td>\n",
       "      <td>75</td>\n",
       "      <td>15.72</td>\n",
       "      <td>TF</td>\n",
       "      <td>1707490169</td>\n",
       "    </tr>\n",
       "    <tr>\n",
       "      <th>3</th>\n",
       "      <td>3</td>\n",
       "      <td>Puerto Ayora</td>\n",
       "      <td>-0.7393</td>\n",
       "      <td>-90.3518</td>\n",
       "      <td>27.53</td>\n",
       "      <td>84</td>\n",
       "      <td>72</td>\n",
       "      <td>2.24</td>\n",
       "      <td>EC</td>\n",
       "      <td>1707489943</td>\n",
       "    </tr>\n",
       "    <tr>\n",
       "      <th>4</th>\n",
       "      <td>4</td>\n",
       "      <td>Chonchi</td>\n",
       "      <td>-42.6128</td>\n",
       "      <td>-73.8092</td>\n",
       "      <td>19.62</td>\n",
       "      <td>47</td>\n",
       "      <td>100</td>\n",
       "      <td>2.00</td>\n",
       "      <td>CL</td>\n",
       "      <td>1707489953</td>\n",
       "    </tr>\n",
       "  </tbody>\n",
       "</table>\n",
       "</div>"
      ],
      "text/plain": [
       "   City_ID               City      Lat      Lng  Max Temp  Humidity  \\\n",
       "0        0        Olonkinbyen  70.9221  -8.7187     -2.64        62   \n",
       "1        1          Mogadishu   2.0371  45.3438     28.93        79   \n",
       "2        2  Port-Aux-Francais -49.3500  70.2167      7.28        92   \n",
       "3        3       Puerto Ayora  -0.7393 -90.3518     27.53        84   \n",
       "4        4            Chonchi -42.6128 -73.8092     19.62        47   \n",
       "\n",
       "   Cloudiness  Wind Speed Country        Date  \n",
       "0           6        4.46      SJ  1707490169  \n",
       "1           0        7.72      SO  1707490169  \n",
       "2          75       15.72      TF  1707490169  \n",
       "3          72        2.24      EC  1707489943  \n",
       "4         100        2.00      CL  1707489953  "
      ]
     },
     "execution_count": 6,
     "metadata": {},
     "output_type": "execute_result"
    }
   ],
   "source": [
    "# load the WeatherPy_Database.csv file\n",
    "file_path = \"/Users/grahammarsh/Documents/GitHub/python-api-challenge/Final Analysis/output_data/WeatherPy_Database.csv\"\n",
    "weather_df = pd.read_csv(file_path)\n",
    "\n",
    "# display the header of the weather_df\n",
    "weather_df.head()"
   ]
  },
  {
   "cell_type": "markdown",
   "metadata": {},
   "source": [
    "Step 1: Create a map that displays a point for every city in the weather_df DataFrame. The size of the point represents the humidity level in each city."
   ]
  },
  {
   "cell_type": "code",
   "execution_count": 7,
   "metadata": {},
   "outputs": [
    {
     "data": {},
     "metadata": {},
     "output_type": "display_data"
    },
    {
     "data": {
      "application/vnd.holoviews_exec.v0+json": "",
      "text/html": [
       "<div id='p1011'>\n",
       "  <div id=\"d7261eca-7787-4835-8571-37339ef26779\" data-root-id=\"p1011\" style=\"display: contents;\"></div>\n",
       "</div>\n",
       "<script type=\"application/javascript\">(function(root) {\n",
       "  var docs_json = {\"68391c42-98f0-47f0-b4dc-9bf17b5b6d7e\":{\"version\":\"3.3.4\",\"title\":\"Bokeh Application\",\"roots\":[{\"type\":\"object\",\"name\":\"Row\",\"id\":\"p1011\",\"attributes\":{\"name\":\"Row01688\",\"tags\":[\"embedded\"],\"stylesheets\":[\"\\n:host(.pn-loading.pn-arc):before, .pn-loading.pn-arc:before {\\n  background-image: url(\\\"data:image/svg+xml;base64,PHN2ZyB4bWxucz0iaHR0cDovL3d3dy53My5vcmcvMjAwMC9zdmciIHN0eWxlPSJtYXJnaW46IGF1dG87IGJhY2tncm91bmQ6IG5vbmU7IGRpc3BsYXk6IGJsb2NrOyBzaGFwZS1yZW5kZXJpbmc6IGF1dG87IiB2aWV3Qm94PSIwIDAgMTAwIDEwMCIgcHJlc2VydmVBc3BlY3RSYXRpbz0ieE1pZFlNaWQiPiAgPGNpcmNsZSBjeD0iNTAiIGN5PSI1MCIgZmlsbD0ibm9uZSIgc3Ryb2tlPSIjYzNjM2MzIiBzdHJva2Utd2lkdGg9IjEwIiByPSIzNSIgc3Ryb2tlLWRhc2hhcnJheT0iMTY0LjkzMzYxNDMxMzQ2NDE1IDU2Ljk3Nzg3MTQzNzgyMTM4Ij4gICAgPGFuaW1hdGVUcmFuc2Zvcm0gYXR0cmlidXRlTmFtZT0idHJhbnNmb3JtIiB0eXBlPSJyb3RhdGUiIHJlcGVhdENvdW50PSJpbmRlZmluaXRlIiBkdXI9IjFzIiB2YWx1ZXM9IjAgNTAgNTA7MzYwIDUwIDUwIiBrZXlUaW1lcz0iMDsxIj48L2FuaW1hdGVUcmFuc2Zvcm0+ICA8L2NpcmNsZT48L3N2Zz4=\\\");\\n  background-size: auto calc(min(50%, 400px));\\n}\",{\"type\":\"object\",\"name\":\"ImportedStyleSheet\",\"id\":\"p1014\",\"attributes\":{\"url\":\"https://cdn.holoviz.org/panel/1.3.8/dist/css/loading.css\"}},{\"type\":\"object\",\"name\":\"ImportedStyleSheet\",\"id\":\"p1103\",\"attributes\":{\"url\":\"https://cdn.holoviz.org/panel/1.3.8/dist/css/listpanel.css\"}},{\"type\":\"object\",\"name\":\"ImportedStyleSheet\",\"id\":\"p1012\",\"attributes\":{\"url\":\"https://cdn.holoviz.org/panel/1.3.8/dist/bundled/theme/default.css\"}},{\"type\":\"object\",\"name\":\"ImportedStyleSheet\",\"id\":\"p1013\",\"attributes\":{\"url\":\"https://cdn.holoviz.org/panel/1.3.8/dist/bundled/theme/native.css\"}}],\"margin\":0,\"sizing_mode\":\"stretch_width\",\"align\":\"start\",\"children\":[{\"type\":\"object\",\"name\":\"Spacer\",\"id\":\"p1015\",\"attributes\":{\"name\":\"HSpacer01694\",\"stylesheets\":[\"\\n:host(.pn-loading.pn-arc):before, .pn-loading.pn-arc:before {\\n  background-image: url(\\\"data:image/svg+xml;base64,PHN2ZyB4bWxucz0iaHR0cDovL3d3dy53My5vcmcvMjAwMC9zdmciIHN0eWxlPSJtYXJnaW46IGF1dG87IGJhY2tncm91bmQ6IG5vbmU7IGRpc3BsYXk6IGJsb2NrOyBzaGFwZS1yZW5kZXJpbmc6IGF1dG87IiB2aWV3Qm94PSIwIDAgMTAwIDEwMCIgcHJlc2VydmVBc3BlY3RSYXRpbz0ieE1pZFlNaWQiPiAgPGNpcmNsZSBjeD0iNTAiIGN5PSI1MCIgZmlsbD0ibm9uZSIgc3Ryb2tlPSIjYzNjM2MzIiBzdHJva2Utd2lkdGg9IjEwIiByPSIzNSIgc3Ryb2tlLWRhc2hhcnJheT0iMTY0LjkzMzYxNDMxMzQ2NDE1IDU2Ljk3Nzg3MTQzNzgyMTM4Ij4gICAgPGFuaW1hdGVUcmFuc2Zvcm0gYXR0cmlidXRlTmFtZT0idHJhbnNmb3JtIiB0eXBlPSJyb3RhdGUiIHJlcGVhdENvdW50PSJpbmRlZmluaXRlIiBkdXI9IjFzIiB2YWx1ZXM9IjAgNTAgNTA7MzYwIDUwIDUwIiBrZXlUaW1lcz0iMDsxIj48L2FuaW1hdGVUcmFuc2Zvcm0+ICA8L2NpcmNsZT48L3N2Zz4=\\\");\\n  background-size: auto calc(min(50%, 400px));\\n}\",{\"id\":\"p1014\"},{\"id\":\"p1012\"},{\"id\":\"p1013\"}],\"margin\":0,\"sizing_mode\":\"stretch_width\",\"align\":\"start\"}},{\"type\":\"object\",\"name\":\"Figure\",\"id\":\"p1044\",\"attributes\":{\"width\":null,\"height\":null,\"margin\":[5,10],\"sizing_mode\":\"fixed\",\"align\":\"start\",\"x_range\":{\"type\":\"object\",\"name\":\"Range1d\",\"id\":\"p1025\",\"attributes\":{\"tags\":[[[\"Longitude\",\"Longitude\",null]],[]],\"start\":-22469670.519885458,\"end\":22572485.20158212,\"reset_start\":-22469670.519885458,\"reset_end\":22572485.20158212,\"min_interval\":5}},\"y_range\":{\"type\":\"object\",\"name\":\"Range1d\",\"id\":\"p1026\",\"attributes\":{\"tags\":[[[\"Latitude\",\"Latitude\",null]],{\"type\":\"map\",\"entries\":[[\"invert_yaxis\",false],[\"autorange\",false]]}],\"start\":-12504662.666640686,\"end\":19668305.705836155,\"reset_start\":-12504662.666640686,\"reset_end\":19668305.705836155,\"min_interval\":5}},\"x_scale\":{\"type\":\"object\",\"name\":\"LinearScale\",\"id\":\"p1054\"},\"y_scale\":{\"type\":\"object\",\"name\":\"LinearScale\",\"id\":\"p1055\"},\"title\":{\"type\":\"object\",\"name\":\"Title\",\"id\":\"p1047\",\"attributes\":{\"text_color\":\"black\",\"text_font_size\":\"12pt\"}},\"renderers\":[{\"type\":\"object\",\"name\":\"TileRenderer\",\"id\":\"p1077\",\"attributes\":{\"level\":\"underlay\",\"tile_source\":{\"type\":\"object\",\"name\":\"WMTSTileSource\",\"id\":\"p1073\",\"attributes\":{\"url\":\"https://c.tile.openstreetmap.org/{Z}/{X}/{Y}.png\",\"attribution\":\"&copy; <a href=\\\"https://www.openstreetmap.org/copyright\\\">OpenStreetMap</a> contributors\"}}}},{\"type\":\"object\",\"name\":\"GlyphRenderer\",\"id\":\"p1093\",\"attributes\":{\"name\":\"color\",\"data_source\":{\"type\":\"object\",\"name\":\"ColumnDataSource\",\"id\":\"p1082\",\"attributes\":{\"selected\":{\"type\":\"object\",\"name\":\"Selection\",\"id\":\"p1083\",\"attributes\":{\"indices\":[],\"line_indices\":[]}},\"selection_policy\":{\"type\":\"object\",\"name\":\"UnionRenderers\",\"id\":\"p1084\"},\"data\":{\"type\":\"map\",\"entries\":[[\"Lng\",{\"type\":\"ndarray\",\"array\":{\"type\":\"bytes\",\"data\":\"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\"},\"shape\":[562],\"dtype\":\"float64\",\"order\":\"little\"}],[\"Lat\",{\"type\":\"ndarray\",\"array\":{\"type\":\"bytes\",\"data\":\"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\"},\"shape\":[562],\"dtype\":\"float64\",\"order\":\"little\"}],[\"City\",[\"Olonkinbyen\",\"Mogadishu\",\"Port-Aux-Francais\",\"Puerto Ayora\",\"Chonchi\",\"Edinburgh Of The Seven Seas\",\"Kodiak\",\"Georgetown\",\"Andovoranto\",\"Gadzhiyevo\",\"Tamanrasset\",\"Ilulissat\",\"Namibe\",\"Kingston\",\"Tofol\",\"Puerto Natales\",\"Whitman\",\"Albany\",\"Bethel\",\"Ushuaia\",\"Ciudad Lazaro Cardenas\",\"Makassar\",\"Murghob\",\"Wailua Homesteads\",\"Adamstown\",\"Levokumskoye\",\"Pathein\",\"Tiksi\",\"Waitangi\",\"Sinabang\",\"Grytviken\",\"Praia Da Vitoria\",\"Tobelo\",\"West Vero Corridor\",\"Jati\",\"Aktau\",\"Lebu\",\"Bilibino\",\"Ketchikan\",\"Port Mathurin\",\"Road Town\",\"Darnah\",\"Laguna\",\"Ribeira Grande\",\"East London\",\"Thompson\",\"Crane\",\"Punta Arenas\",\"Yantarnyy\",\"Rongelap\",\"Mili\",\"Jamestown\",\"Vilyuchinsk\",\"Blackmans Bay\",\"Port Elizabeth\",\"Mount Isa\",\"Yellowknife\",\"Margaret River\",\"Kavaratti\",\"West Island\",\"Richards Bay\",\"Tazovsky\",\"Atafu Village\",\"Flying Fish Cove\",\"Puente Alto\",\"Las Tablas\",\"Saldanha\",\"Khedbrahma\",\"Hawaiian Paradise Park\",\"Canutama\",\"Kisangani\",\"Kapa'A\",\"Kuna\",\"Kaa-Khem\",\"Usevia\",\"Howrah\",\"Udachny\",\"Black River\",\"Fort Bragg\",\"Sheopur\",\"Ad Darb\",\"Susuman\",\"Big Spring\",\"Kupang\",\"Betong\",\"Tralee\",\"Key West\",\"Codrington\",\"Betheny\",\"Hadibu\",\"Bredasdorp\",\"Tsiombe\",\"Dauphin\",\"La Passe\",\"Bordj Bou Arreridj\",\"College\",\"Zaozersk\",\"Saipan\",\"Villa De Soto\",\"Selfoss\",\"Inyonga\",\"Falam\",\"Langepas\",\"Tual\",\"Whitehorse\",\"Belyy Yar\",\"San Onofre\",\"Ambodifotatra\",\"Sheffield\",\"Kochubey\",\"Greymouth\",\"Buala\",\"Inarajan Village\",\"Kristiansund\",\"Miles City\",\"Cole Harbour\",\"Anadyr\",\"Enewetak\",\"Toropets\",\"Avarua\",\"Caraballeda\",\"Lorengau\",\"Badger\",\"Utrik\",\"Iqaluit\",\"Mariinsk\",\"Balakhani\",\"Omidiyeh\",\"Yenotayevka\",\"Acarau\",\"Stanley\",\"Lanciano\",\"Coahuayana De Hidalgo\",\"Auki\",\"Fonte Boa\",\"Papatowai\",\"Lompoc\",\"Bellefonte\",\"Sinop\",\"Aykhal\",\"Tolanaro\",\"Atherton\",\"Nadvoitsy\",\"Karratha\",\"Inhambane\",\"Guerrero Negro\",\"Qaqortoq\",\"Hargeysa\",\"Uliastay\",\"Kamina\",\"Iskateley\",\"Terville\",\"Tobruk\",\"Manati\",\"El Alto\",\"Pisco\",\"Isafjordur\",\"Talnakh\",\"Wittenburg\",\"Amos\",\"Kerikeri\",\"Kenai\",\"Polyarnyy\",\"Vila Velha\",\"Puerto Baquerizo Moreno\",\"Vega De Alatorre\",\"Hasaki\",\"Tyukalinsk\",\"Xichang\",\"Palmer\",\"Czestochowa\",\"Pingliang\",\"Petropavlovsk-Kamchatsky\",\"Ceres\",\"Conduaga\",\"Howard Springs\",\"Mpongwe\",\"La Sarre\",\"St. John'S\",\"La Ronge\",\"Zouerate\",\"Namtsy\",\"Asaita\",\"Santa Ana\",\"Nakama\",\"Kharp\",\"Kailua-Kona\",\"Hobyo\",\"Darmanesti\",\"Puerto Deseado\",\"Isangel\",\"Vulcanesti\",\"Port Alfred\",\"Yilan\",\"Afaahiti\",\"Shahrak\",\"Daru\",\"Wynyard\",\"Mgandu\",\"Fale Old Settlement\",\"Zeya\",\"Clovis\",\"Nemuro\",\"Berezovyy\",\"Tura\",\"Pyinmana\",\"Colonia\",\"Cockburn Town\",\"Aripuana\",\"Illapel\",\"Walvis Bay\",\"Lihue\",\"Egilsstadir\",\"Khamis Mushait\",\"Caleta De Carquin\",\"Sitka\",\"Calvinia\",\"Taipei\",\"Carnarvon\",\"San Andres\",\"Puerto Armuelles\",\"Masterton\",\"Luwuk\",\"Viedma\",\"Longyearbyen\",\"Barclayville\",\"Darwin\",\"Aasiaat\",\"Buba\",\"Alice Springs\",\"Hermanus\",\"Keflavik\",\"Wewak\",\"Kittila\",\"Smithers\",\"Deir Ez-Zor\",\"Khovd\",\"Tonkino\",\"Vilyuysk\",\"Honiara\",\"Qui Nhon\",\"Puttalam\",\"Nan\",\"Antigonish\",\"San Juan\",\"Kalmunai\",\"Remire-Montjoly\",\"Bamboo Flat\",\"Acapulco De Juarez\",\"Le Port\",\"Manavalakurichi\",\"Rio Grande\",\"Miquelon\",\"Noumea\",\"Noosa Heads\",\"Zheleznovodsk\",\"Omdurman\",\"La Grange\",\"Massena\",\"Shpola\",\"Kavieng\",\"Thunder Bay\",\"Klerksdorp\",\"Linhares\",\"Nizhniy Odes\",\"Cabo San Lucas\",\"Tadine\",\"Antsiranana\",\"Lubny\",\"Waldbrol\",\"Haiku-Pauwela\",\"Byron Center\",\"Queenstown\",\"Ormond-By-The-Sea\",\"Tarko-Sale\",\"Alto Araguaia\",\"Gumushacikoy\",\"Yaren\",\"Gamay\",\"Yunguyo\",\"Sopela\",\"Ust-Nera\",\"Santa Terezinha\",\"Flekkefjord\",\"Reyes\",\"Kongolo\",\"Franceville\",\"Manaure\",\"Lashio\",\"Wenatchee\",\"Hami\",\"Zanjan\",\"Prado\",\"Mitu\",\"Vorgashor\",\"Palikir - National Government Center\",\"Rhinelander\",\"Ancud\",\"Kismayo\",\"Sao Tome\",\"Carbonear\",\"Taoudenni\",\"Amherst\",\"Antalaha\",\"Sao Gabriel Da Cachoeira\",\"Weno\",\"Pemangkat\",\"Barra De Santo Antonio\",\"Hamilton\",\"Ovalle\",\"El Granada\",\"Mandal\",\"Bayevo\",\"Vadso\",\"Nizhnyaya Poyma\",\"Marka\",\"Mejit\",\"Tapes\",\"Nova Olinda Do Norte\",\"Saynshand\",\"Invercargill\",\"Kamloops\",\"Nyurba\",\"Bridgeport\",\"Impfondo\",\"Havre\",\"Kununurra\",\"Osorno\",\"Ta`U\",\"Bayanhongor\",\"Las Khorey\",\"Luderitz\",\"Linxia Chengguanzhen\",\"Tefe\",\"Puri\",\"Berber\",\"Summerlin South\",\"Mendi\",\"Kapuskasing\",\"Malango\",\"Visakhapatnam\",\"Nova Sintra\",\"Cabedelo\",\"Holualoa\",\"Andkhoy\",\"Edson\",\"Trinidad\",\"Kangding\",\"Fiambala\",\"Alofi\",\"Broome\",\"Arraial Do Cabo\",\"Usogorsk\",\"Urangan\",\"Atar\",\"Berlin\",\"Illizi\",\"La'Ie\",\"Harper\",\"Mahanje\",\"Scottburgh\",\"Arrifes\",\"Klyuchi\",\"Ukholovo\",\"Khorugh\",\"Nakhon Nayok\",\"Mastic Beach\",\"Magdagachi\",\"Quelimane\",\"Iquique\",\"Uturoa\",\"Port Macquarie\",\"Labrador City\",\"Gunjur\",\"San Antonio De Pale\",\"Selkirk\",\"Sisimiut\",\"Tommot\",\"Abhar\",\"Bouna\",\"Vorkuta\",\"Grants\",\"Kasongo-Lunda\",\"East Grand Forks\",\"Beira\",\"Bikenibeu Village\",\"Cherepovets\",\"Arica\",\"Sennori\",\"Vetlanda\",\"Nagqu\",\"Anantapur\",\"Levuka\",\"Pandan\",\"Banda Aceh\",\"Sosnovka\",\"Harar\",\"La Trinite\",\"Buka\",\"Frontera\",\"Taroa\",\"Timimoun\",\"Lithgow\",\"Zhezqazghan\",\"Tumpat\",\"Klaksvik\",\"Sabang\",\"Sarupathar\",\"Visby\",\"Osmancik\",\"Peace River\",\"Kampene\",\"Dudinka\",\"Orsa\",\"San Patricio\",\"Taltal\",\"Dunedin\",\"Thinadhoo\",\"Arteche\",\"Leua\",\"Babolsar\",\"Kamba\",\"Ciudad Real\",\"Revda\",\"Sydney\",\"Nar'Yan-Mar\",\"Ghat\",\"Lata\",\"Opuwo\",\"Hithadhoo\",\"Chibougamau\",\"Maraba\",\"Vernon\",\"Lautoka\",\"Ibiza\",\"Kurchatov\",\"Wegrow\",\"Amga\",\"Mildura\",\"Bay Roberts\",\"Nguigmi\",\"Malvan\",\"Sretensk\",\"Ceelbuur\",\"Constantia\",\"Dawei\",\"Yakakent\",\"Sao Jose Da Coroa Grande\",\"Pechora\",\"Sao Paulo De Olivenca\",\"Santa Isabel\",\"Wakkanai\",\"Kuandian\",\"Ojinaga\",\"Medicine Hat\",\"Bonanza\",\"Kingaroy\",\"Kyabram\",\"Goundam\",\"Kuanda\",\"Igarka\",\"Yeppoon\",\"Bubaque\",\"City Of Balikpapan\",\"Dire\",\"Kalymnos\",\"Troitskaya\",\"Hansot\",\"Primorskiy\",\"Olds\",\"Akureyri\",\"Sao Filipe\",\"Kabalo\",\"Xicotencatl\",\"Pimenta Bueno\",\"Olinda\",\"Imbituba\",\"Severo-Yeniseyskiy\",\"Kirakira\",\"Cannonvale\",\"Kamaishi\",\"Cao Bang\",\"Moses Lake\",\"Nahiyat Ash Shinafiyah\",\"Magadi\",\"West End\",\"Irymple\",\"Pangai\",\"Solleftea\",\"Wellington\",\"Broken Hill\",\"Cape Town\",\"Margate\",\"Ndibene Dahra\",\"Taulaga\",\"Tazacorte\",\"Mohammedia\",\"Beaufort\",\"Colby\",\"Christchurch\",\"Hotan\",\"La Tuque\",\"Horta\",\"Dayr Al Balah\",\"Mani\",\"Campbell River\",\"Hanceville\",\"Oltinko'L\",\"Vila Franca Do Campo\",\"Gaspe\",\"Bom Jesus\",\"Barabai\",\"Dhanwar\",\"Port Saint John'S\",\"Pontianak\",\"Yuzhno-Kurilsk\",\"Bloomingdale\",\"Kuala Terengganu\",\"Bogande\",\"Ivdel'\",\"Harstad\",\"Contamana\",\"North Haven\",\"Rabka-Zdroj\",\"Hohhot\",\"Viru\",\"Malmberget\",\"Hsinchu\",\"Isiro\",\"Mount Gambier\",\"Port Blair\",\"Portland\",\"Gargalianoi\",\"Forster\",\"Ebon\",\"Jawf Al Maqbabah\",\"Al Ghayzah\",\"Mbaiki\",\"Carrigaline\",\"Takestan\",\"Santana\",\"Qala I Naw\",\"Tayshet\",\"Wenxing\",\"Cururupu\",\"Tikamgarh\",\"Nadym\",\"Crucecita\",\"Kazanskoye\",\"Bandundu\",\"Dongola\",\"Coquimbo\",\"Ad Douiem\",\"Bairnsdale\",\"Guayaramerin\",\"Ust'-Kulom\",\"Saint-Philippe\",\"Constitucion\",\"Huaraz\",\"Nabire\",\"Kotido\",\"Kozluk\"]],[\"Humidity\",{\"type\":\"ndarray\",\"array\":{\"type\":\"bytes\",\"data\":\"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\"},\"shape\":[562],\"dtype\":\"int32\",\"order\":\"little\"}],[\"color\",[\"Olonkinbyen\",\"Mogadishu\",\"Port-Aux-Francais\",\"Puerto Ayora\",\"Chonchi\",\"Edinburgh Of The Seven Seas\",\"Kodiak\",\"Georgetown\",\"Andovoranto\",\"Gadzhiyevo\",\"Tamanrasset\",\"Ilulissat\",\"Namibe\",\"Kingston\",\"Tofol\",\"Puerto Natales\",\"Whitman\",\"Albany\",\"Bethel\",\"Ushuaia\",\"Ciudad Lazaro Cardenas\",\"Makassar\",\"Murghob\",\"Wailua Homesteads\",\"Adamstown\",\"Levokumskoye\",\"Pathein\",\"Tiksi\",\"Waitangi\",\"Sinabang\",\"Grytviken\",\"Praia Da Vitoria\",\"Tobelo\",\"West Vero Corridor\",\"Jati\",\"Aktau\",\"Lebu\",\"Bilibino\",\"Ketchikan\",\"Port Mathurin\",\"Road Town\",\"Darnah\",\"Laguna\",\"Ribeira Grande\",\"East London\",\"Thompson\",\"Crane\",\"Punta Arenas\",\"Yantarnyy\",\"Rongelap\",\"Mili\",\"Jamestown\",\"Vilyuchinsk\",\"Blackmans Bay\",\"Port Elizabeth\",\"Mount Isa\",\"Yellowknife\",\"Margaret River\",\"Kavaratti\",\"West Island\",\"Richards Bay\",\"Tazovsky\",\"Atafu Village\",\"Flying Fish Cove\",\"Puente Alto\",\"Las Tablas\",\"Saldanha\",\"Khedbrahma\",\"Hawaiian Paradise Park\",\"Canutama\",\"Kisangani\",\"Kapa'A\",\"Kuna\",\"Kaa-Khem\",\"Usevia\",\"Howrah\",\"Udachny\",\"Black River\",\"Fort Bragg\",\"Sheopur\",\"Ad Darb\",\"Susuman\",\"Big Spring\",\"Kupang\",\"Betong\",\"Tralee\",\"Key West\",\"Codrington\",\"Betheny\",\"Hadibu\",\"Bredasdorp\",\"Tsiombe\",\"Dauphin\",\"La Passe\",\"Bordj Bou Arreridj\",\"College\",\"Zaozersk\",\"Saipan\",\"Villa De Soto\",\"Selfoss\",\"Inyonga\",\"Falam\",\"Langepas\",\"Tual\",\"Whitehorse\",\"Belyy Yar\",\"San Onofre\",\"Ambodifotatra\",\"Sheffield\",\"Kochubey\",\"Greymouth\",\"Buala\",\"Inarajan Village\",\"Kristiansund\",\"Miles City\",\"Cole Harbour\",\"Anadyr\",\"Enewetak\",\"Toropets\",\"Avarua\",\"Caraballeda\",\"Lorengau\",\"Badger\",\"Utrik\",\"Iqaluit\",\"Mariinsk\",\"Balakhani\",\"Omidiyeh\",\"Yenotayevka\",\"Acarau\",\"Stanley\",\"Lanciano\",\"Coahuayana De Hidalgo\",\"Auki\",\"Fonte Boa\",\"Papatowai\",\"Lompoc\",\"Bellefonte\",\"Sinop\",\"Aykhal\",\"Tolanaro\",\"Atherton\",\"Nadvoitsy\",\"Karratha\",\"Inhambane\",\"Guerrero Negro\",\"Qaqortoq\",\"Hargeysa\",\"Uliastay\",\"Kamina\",\"Iskateley\",\"Terville\",\"Tobruk\",\"Manati\",\"El Alto\",\"Pisco\",\"Isafjordur\",\"Talnakh\",\"Wittenburg\",\"Amos\",\"Kerikeri\",\"Kenai\",\"Polyarnyy\",\"Vila Velha\",\"Puerto Baquerizo Moreno\",\"Vega De Alatorre\",\"Hasaki\",\"Tyukalinsk\",\"Xichang\",\"Palmer\",\"Czestochowa\",\"Pingliang\",\"Petropavlovsk-Kamchatsky\",\"Ceres\",\"Conduaga\",\"Howard Springs\",\"Mpongwe\",\"La Sarre\",\"St. John'S\",\"La Ronge\",\"Zouerate\",\"Namtsy\",\"Asaita\",\"Santa Ana\",\"Nakama\",\"Kharp\",\"Kailua-Kona\",\"Hobyo\",\"Darmanesti\",\"Puerto Deseado\",\"Isangel\",\"Vulcanesti\",\"Port Alfred\",\"Yilan\",\"Afaahiti\",\"Shahrak\",\"Daru\",\"Wynyard\",\"Mgandu\",\"Fale Old Settlement\",\"Zeya\",\"Clovis\",\"Nemuro\",\"Berezovyy\",\"Tura\",\"Pyinmana\",\"Colonia\",\"Cockburn Town\",\"Aripuana\",\"Illapel\",\"Walvis Bay\",\"Lihue\",\"Egilsstadir\",\"Khamis Mushait\",\"Caleta De Carquin\",\"Sitka\",\"Calvinia\",\"Taipei\",\"Carnarvon\",\"San Andres\",\"Puerto Armuelles\",\"Masterton\",\"Luwuk\",\"Viedma\",\"Longyearbyen\",\"Barclayville\",\"Darwin\",\"Aasiaat\",\"Buba\",\"Alice Springs\",\"Hermanus\",\"Keflavik\",\"Wewak\",\"Kittila\",\"Smithers\",\"Deir Ez-Zor\",\"Khovd\",\"Tonkino\",\"Vilyuysk\",\"Honiara\",\"Qui Nhon\",\"Puttalam\",\"Nan\",\"Antigonish\",\"San Juan\",\"Kalmunai\",\"Remire-Montjoly\",\"Bamboo Flat\",\"Acapulco De Juarez\",\"Le Port\",\"Manavalakurichi\",\"Rio Grande\",\"Miquelon\",\"Noumea\",\"Noosa Heads\",\"Zheleznovodsk\",\"Omdurman\",\"La Grange\",\"Massena\",\"Shpola\",\"Kavieng\",\"Thunder Bay\",\"Klerksdorp\",\"Linhares\",\"Nizhniy Odes\",\"Cabo San Lucas\",\"Tadine\",\"Antsiranana\",\"Lubny\",\"Waldbrol\",\"Haiku-Pauwela\",\"Byron Center\",\"Queenstown\",\"Ormond-By-The-Sea\",\"Tarko-Sale\",\"Alto Araguaia\",\"Gumushacikoy\",\"Yaren\",\"Gamay\",\"Yunguyo\",\"Sopela\",\"Ust-Nera\",\"Santa Terezinha\",\"Flekkefjord\",\"Reyes\",\"Kongolo\",\"Franceville\",\"Manaure\",\"Lashio\",\"Wenatchee\",\"Hami\",\"Zanjan\",\"Prado\",\"Mitu\",\"Vorgashor\",\"Palikir - National Government Center\",\"Rhinelander\",\"Ancud\",\"Kismayo\",\"Sao Tome\",\"Carbonear\",\"Taoudenni\",\"Amherst\",\"Antalaha\",\"Sao Gabriel Da Cachoeira\",\"Weno\",\"Pemangkat\",\"Barra De Santo Antonio\",\"Hamilton\",\"Ovalle\",\"El Granada\",\"Mandal\",\"Bayevo\",\"Vadso\",\"Nizhnyaya Poyma\",\"Marka\",\"Mejit\",\"Tapes\",\"Nova Olinda Do Norte\",\"Saynshand\",\"Invercargill\",\"Kamloops\",\"Nyurba\",\"Bridgeport\",\"Impfondo\",\"Havre\",\"Kununurra\",\"Osorno\",\"Ta`U\",\"Bayanhongor\",\"Las Khorey\",\"Luderitz\",\"Linxia Chengguanzhen\",\"Tefe\",\"Puri\",\"Berber\",\"Summerlin South\",\"Mendi\",\"Kapuskasing\",\"Malango\",\"Visakhapatnam\",\"Nova Sintra\",\"Cabedelo\",\"Holualoa\",\"Andkhoy\",\"Edson\",\"Trinidad\",\"Kangding\",\"Fiambala\",\"Alofi\",\"Broome\",\"Arraial Do Cabo\",\"Usogorsk\",\"Urangan\",\"Atar\",\"Berlin\",\"Illizi\",\"La'Ie\",\"Harper\",\"Mahanje\",\"Scottburgh\",\"Arrifes\",\"Klyuchi\",\"Ukholovo\",\"Khorugh\",\"Nakhon Nayok\",\"Mastic Beach\",\"Magdagachi\",\"Quelimane\",\"Iquique\",\"Uturoa\",\"Port Macquarie\",\"Labrador City\",\"Gunjur\",\"San Antonio De Pale\",\"Selkirk\",\"Sisimiut\",\"Tommot\",\"Abhar\",\"Bouna\",\"Vorkuta\",\"Grants\",\"Kasongo-Lunda\",\"East Grand Forks\",\"Beira\",\"Bikenibeu Village\",\"Cherepovets\",\"Arica\",\"Sennori\",\"Vetlanda\",\"Nagqu\",\"Anantapur\",\"Levuka\",\"Pandan\",\"Banda Aceh\",\"Sosnovka\",\"Harar\",\"La Trinite\",\"Buka\",\"Frontera\",\"Taroa\",\"Timimoun\",\"Lithgow\",\"Zhezqazghan\",\"Tumpat\",\"Klaksvik\",\"Sabang\",\"Sarupathar\",\"Visby\",\"Osmancik\",\"Peace River\",\"Kampene\",\"Dudinka\",\"Orsa\",\"San Patricio\",\"Taltal\",\"Dunedin\",\"Thinadhoo\",\"Arteche\",\"Leua\",\"Babolsar\",\"Kamba\",\"Ciudad Real\",\"Revda\",\"Sydney\",\"Nar'Yan-Mar\",\"Ghat\",\"Lata\",\"Opuwo\",\"Hithadhoo\",\"Chibougamau\",\"Maraba\",\"Vernon\",\"Lautoka\",\"Ibiza\",\"Kurchatov\",\"Wegrow\",\"Amga\",\"Mildura\",\"Bay Roberts\",\"Nguigmi\",\"Malvan\",\"Sretensk\",\"Ceelbuur\",\"Constantia\",\"Dawei\",\"Yakakent\",\"Sao Jose Da Coroa Grande\",\"Pechora\",\"Sao Paulo De Olivenca\",\"Santa Isabel\",\"Wakkanai\",\"Kuandian\",\"Ojinaga\",\"Medicine Hat\",\"Bonanza\",\"Kingaroy\",\"Kyabram\",\"Goundam\",\"Kuanda\",\"Igarka\",\"Yeppoon\",\"Bubaque\",\"City Of Balikpapan\",\"Dire\",\"Kalymnos\",\"Troitskaya\",\"Hansot\",\"Primorskiy\",\"Olds\",\"Akureyri\",\"Sao Filipe\",\"Kabalo\",\"Xicotencatl\",\"Pimenta Bueno\",\"Olinda\",\"Imbituba\",\"Severo-Yeniseyskiy\",\"Kirakira\",\"Cannonvale\",\"Kamaishi\",\"Cao Bang\",\"Moses Lake\",\"Nahiyat Ash Shinafiyah\",\"Magadi\",\"West End\",\"Irymple\",\"Pangai\",\"Solleftea\",\"Wellington\",\"Broken Hill\",\"Cape Town\",\"Margate\",\"Ndibene Dahra\",\"Taulaga\",\"Tazacorte\",\"Mohammedia\",\"Beaufort\",\"Colby\",\"Christchurch\",\"Hotan\",\"La Tuque\",\"Horta\",\"Dayr Al Balah\",\"Mani\",\"Campbell River\",\"Hanceville\",\"Oltinko'L\",\"Vila Franca Do Campo\",\"Gaspe\",\"Bom Jesus\",\"Barabai\",\"Dhanwar\",\"Port Saint John'S\",\"Pontianak\",\"Yuzhno-Kurilsk\",\"Bloomingdale\",\"Kuala Terengganu\",\"Bogande\",\"Ivdel'\",\"Harstad\",\"Contamana\",\"North Haven\",\"Rabka-Zdroj\",\"Hohhot\",\"Viru\",\"Malmberget\",\"Hsinchu\",\"Isiro\",\"Mount Gambier\",\"Port Blair\",\"Portland\",\"Gargalianoi\",\"Forster\",\"Ebon\",\"Jawf Al Maqbabah\",\"Al Ghayzah\",\"Mbaiki\",\"Carrigaline\",\"Takestan\",\"Santana\",\"Qala I Naw\",\"Tayshet\",\"Wenxing\",\"Cururupu\",\"Tikamgarh\",\"Nadym\",\"Crucecita\",\"Kazanskoye\",\"Bandundu\",\"Dongola\",\"Coquimbo\",\"Ad Douiem\",\"Bairnsdale\",\"Guayaramerin\",\"Ust'-Kulom\",\"Saint-Philippe\",\"Constitucion\",\"Huaraz\",\"Nabire\",\"Kotido\",\"Kozluk\"]],[\"size\",{\"type\":\"ndarray\",\"array\":{\"type\":\"bytes\",\"data\":\"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\"},\"shape\":[562],\"dtype\":\"float64\",\"order\":\"little\"}]]}}},\"view\":{\"type\":\"object\",\"name\":\"CDSView\",\"id\":\"p1094\",\"attributes\":{\"filter\":{\"type\":\"object\",\"name\":\"AllIndices\",\"id\":\"p1095\"}}},\"glyph\":{\"type\":\"object\",\"name\":\"Scatter\",\"id\":\"p1088\",\"attributes\":{\"tags\":[\"apply_ranges\"],\"x\":{\"type\":\"field\",\"field\":\"Lng\"},\"y\":{\"type\":\"field\",\"field\":\"Lat\"},\"size\":{\"type\":\"field\",\"field\":\"size\"},\"line_color\":{\"type\":\"field\",\"field\":\"color\",\"transform\":{\"type\":\"object\",\"name\":\"CategoricalColorMapper\",\"id\":\"p1081\",\"attributes\":{\"palette\":[\"#1f77b3\",\"#ff7e0e\",\"#2ba02b\",\"#d62628\",\"#9367bc\",\"#8c564b\",\"#e277c1\",\"#7e7e7e\",\"#bcbc21\",\"#16bdcf\",\"#3a0182\",\"#004201\",\"#0fffa8\",\"#5d003f\",\"#bcbcff\",\"#d8afa1\",\"#b80080\",\"#004d52\",\"#6b6400\",\"#7c0100\",\"#6026ff\",\"#ffff9a\",\"#564964\",\"#8cb893\",\"#93fbff\",\"#018267\",\"#90ff00\",\"#8200a0\",\"#ac8944\",\"#5b3400\",\"#ffbff2\",\"#ff6e75\",\"#798cff\",\"#dd00ff\",\"#505646\",\"#004489\",\"#ffbf60\",\"#ff018c\",\"#bdc8cf\",\"#af97b5\",\"#b65600\",\"#017000\",\"#cd87ff\",\"#1cd646\",\"#bfebc3\",\"#7997b5\",\"#a56089\",\"#6e8956\",\"#bc7c75\",\"#8a2844\",\"#00acff\",\"#8ed4ff\",\"#4b6d77\",\"#00d4b1\",\"#9300f2\",\"#8a9500\",\"#5d5b9e\",\"#fddfba\",\"#00939e\",\"#ffdb00\",\"#00aa79\",\"#520067\",\"#000091\",\"#0a5d3d\",\"#a5e275\",\"#623b41\",\"#c6c689\",\"#ff9eb5\",\"#cd4f6b\",\"#ff07d6\",\"#8a3a05\",\"#7e3d70\",\"#ff4901\",\"#602ba5\",\"#1c00ff\",\"#e6dfff\",\"#aa3baf\",\"#d89c00\",\"#a3a39e\",\"#3f69ff\",\"#46490c\",\"#7b6985\",\"#6b978c\",\"#ff9a75\",\"#835bff\",\"#7c6b46\",\"#80b654\",\"#bc0049\",\"#fd93ff\",\"#5d0018\",\"#89d1d1\",\"#9c8cd3\",\"#da6d42\",\"#8a5700\",\"#3b5069\",\"#4b6b3b\",\"#edcfd8\",\"#cfedff\",\"#aa1500\",\"#dfff4f\",\"#ff2a56\",\"#d1499e\",\"#707cb8\",\"#598000\",\"#00e4fd\",\"#774b95\",\"#67d48c\",\"#3d3a72\",\"#ac413f\",\"#d6a166\",\"#c169cd\",\"#69595d\",\"#87aced\",\"#a0a569\",\"#d1aae6\",\"#870062\",\"#00fddb\",\"#672818\",\"#b342ff\",\"#0e59c4\",\"#168742\",\"#90d300\",\"#cd7900\",\"#f959ff\",\"#5b7466\",\"#8eaeb3\",\"#9c7c8c\",\"#4600c6\",\"#6b4d2d\",\"#a56d46\",\"#9e8972\",\"#a8afca\",\"#cd8ca7\",\"#00fd64\",\"#917900\",\"#ff62a1\",\"#f4ffd8\",\"#018cf0\",\"#13aca0\",\"#5b2d59\",\"#89859e\",\"#cfccba\",\"#d4afc4\",\"#dbdd6d\",\"#cffff4\",\"#006485\",\"#006962\",\"#a84167\",\"#2d97c4\",\"#a874ff\",\"#26ba5d\",\"#57b600\",\"#caffa7\",\"#a379aa\",\"#ffbc93\",\"#89e2c1\",\"#0fc8ff\",\"#d400c4\",\"#626d89\",\"#69858e\",\"#4b4d52\",\"#aa6067\",\"#79b5d4\",\"#2b5916\",\"#9a0024\",\"#bdd1f2\",\"#896e67\",\"#69a56b\",\"#855467\",\"#aecdba\",\"#87997e\",\"#cadb00\",\"#9a0390\",\"#ebbc1a\",\"#eb9cd1\",\"#70006e\",\"#b1a131\",\"#ca6b93\",\"#4146a3\",\"#e48c89\",\"#d44400\",\"#c68aca\",\"#b69597\",\"#d41f75\",\"#724bcc\",\"#674d00\",\"#672138\",\"#38564f\",\"#6ebaaa\",\"#853a31\",\"#a5d397\",\"#b8af8e\",\"#d8e4df\",\"#aa00df\",\"#cac1db\",\"#ffdf8c\",\"#e2524d\",\"#66696e\",\"#ff001c\",\"#522d72\",\"#4d906b\",\"#a86d11\",\"#ff9e26\",\"#5ea3af\",\"#c88556\",\"#915997\",\"#a3a1ff\",\"#fdbaba\",\"#242a87\",\"#dbe6a8\",\"#97f2a7\",\"#6793d6\",\"#ba5b3f\",\"#3a5d91\",\"#364f2f\",\"#267c95\",\"#89959a\",\"#cfb356\",\"#004664\",\"#5e5d2f\",\"#8e8e41\",\"#ac3f13\",\"#69953b\",\"#a13d85\",\"#bfb6ba\",\"#acc667\",\"#6469cf\",\"#91af00\",\"#2be2da\",\"#016e36\",\"#ff7952\",\"#42807e\",\"#4fe800\",\"#995428\",\"#5d0a00\",\"#a30057\",\"#0c8700\",\"#5982a7\",\"#ffebfb\",\"#4b6901\",\"#8775d4\",\"#e6c6ff\",\"#a5ffda\",\"#d86e77\",\"#df014b\",\"#69675b\",\"#776ba1\",\"#7e8067\",\"#594685\",\"#0000ca\",\"#7c002a\",\"#97ff72\",\"#b5e2e1\",\"#db52c8\",\"#777734\",\"#57bd8e\",\"#1f77b3\",\"#ff7e0e\",\"#2ba02b\",\"#d62628\",\"#9367bc\",\"#8c564b\",\"#e277c1\",\"#7e7e7e\",\"#bcbc21\",\"#16bdcf\",\"#3a0182\",\"#004201\",\"#0fffa8\",\"#5d003f\",\"#bcbcff\",\"#d8afa1\",\"#b80080\",\"#004d52\",\"#6b6400\",\"#7c0100\",\"#6026ff\",\"#ffff9a\",\"#564964\",\"#8cb893\",\"#93fbff\",\"#018267\",\"#90ff00\",\"#8200a0\",\"#ac8944\",\"#5b3400\",\"#ffbff2\",\"#ff6e75\",\"#798cff\",\"#dd00ff\",\"#505646\",\"#004489\",\"#ffbf60\",\"#ff018c\",\"#bdc8cf\",\"#af97b5\",\"#b65600\",\"#017000\",\"#cd87ff\",\"#1cd646\",\"#bfebc3\",\"#7997b5\",\"#a56089\",\"#6e8956\",\"#bc7c75\",\"#8a2844\",\"#00acff\",\"#8ed4ff\",\"#4b6d77\",\"#00d4b1\",\"#9300f2\",\"#8a9500\",\"#5d5b9e\",\"#fddfba\",\"#00939e\",\"#ffdb00\",\"#00aa79\",\"#520067\",\"#000091\",\"#0a5d3d\",\"#a5e275\",\"#623b41\",\"#c6c689\",\"#ff9eb5\",\"#cd4f6b\",\"#ff07d6\",\"#8a3a05\",\"#7e3d70\",\"#ff4901\",\"#602ba5\",\"#1c00ff\",\"#e6dfff\",\"#aa3baf\",\"#d89c00\",\"#a3a39e\",\"#3f69ff\",\"#46490c\",\"#7b6985\",\"#6b978c\",\"#ff9a75\",\"#835bff\",\"#7c6b46\",\"#80b654\",\"#bc0049\",\"#fd93ff\",\"#5d0018\",\"#89d1d1\",\"#9c8cd3\",\"#da6d42\",\"#8a5700\",\"#3b5069\",\"#4b6b3b\",\"#edcfd8\",\"#cfedff\",\"#aa1500\",\"#dfff4f\",\"#ff2a56\",\"#d1499e\",\"#707cb8\",\"#598000\",\"#00e4fd\",\"#774b95\",\"#67d48c\",\"#3d3a72\",\"#ac413f\",\"#d6a166\",\"#c169cd\",\"#69595d\",\"#87aced\",\"#a0a569\",\"#d1aae6\",\"#870062\",\"#00fddb\",\"#672818\",\"#b342ff\",\"#0e59c4\",\"#168742\",\"#90d300\",\"#cd7900\",\"#f959ff\",\"#5b7466\",\"#8eaeb3\",\"#9c7c8c\",\"#4600c6\",\"#6b4d2d\",\"#a56d46\",\"#9e8972\",\"#a8afca\",\"#cd8ca7\",\"#00fd64\",\"#917900\",\"#ff62a1\",\"#f4ffd8\",\"#018cf0\",\"#13aca0\",\"#5b2d59\",\"#89859e\",\"#cfccba\",\"#d4afc4\",\"#dbdd6d\",\"#cffff4\",\"#006485\",\"#006962\",\"#a84167\",\"#2d97c4\",\"#a874ff\",\"#26ba5d\",\"#57b600\",\"#caffa7\",\"#a379aa\",\"#ffbc93\",\"#89e2c1\",\"#0fc8ff\",\"#d400c4\",\"#626d89\",\"#69858e\",\"#4b4d52\",\"#aa6067\",\"#79b5d4\",\"#2b5916\",\"#9a0024\",\"#bdd1f2\",\"#896e67\",\"#69a56b\",\"#855467\",\"#aecdba\",\"#87997e\",\"#cadb00\",\"#9a0390\",\"#ebbc1a\",\"#eb9cd1\",\"#70006e\",\"#b1a131\",\"#ca6b93\",\"#4146a3\",\"#e48c89\",\"#d44400\",\"#c68aca\",\"#b69597\",\"#d41f75\",\"#724bcc\",\"#674d00\",\"#672138\",\"#38564f\",\"#6ebaaa\",\"#853a31\",\"#a5d397\",\"#b8af8e\",\"#d8e4df\",\"#aa00df\",\"#cac1db\",\"#ffdf8c\",\"#e2524d\",\"#66696e\",\"#ff001c\",\"#522d72\",\"#4d906b\",\"#a86d11\",\"#ff9e26\",\"#5ea3af\",\"#c88556\",\"#915997\",\"#a3a1ff\",\"#fdbaba\",\"#242a87\",\"#dbe6a8\",\"#97f2a7\",\"#6793d6\",\"#ba5b3f\",\"#3a5d91\",\"#364f2f\",\"#267c95\",\"#89959a\",\"#cfb356\",\"#004664\",\"#5e5d2f\",\"#8e8e41\",\"#ac3f13\",\"#69953b\",\"#a13d85\",\"#bfb6ba\",\"#acc667\",\"#6469cf\",\"#91af00\",\"#2be2da\",\"#016e36\",\"#ff7952\",\"#42807e\",\"#4fe800\",\"#995428\",\"#5d0a00\",\"#a30057\",\"#0c8700\",\"#5982a7\",\"#ffebfb\",\"#4b6901\",\"#8775d4\",\"#e6c6ff\",\"#a5ffda\",\"#d86e77\",\"#df014b\",\"#69675b\",\"#776ba1\",\"#7e8067\",\"#594685\",\"#0000ca\",\"#7c002a\",\"#97ff72\",\"#b5e2e1\",\"#db52c8\",\"#777734\",\"#57bd8e\",\"#1f77b3\",\"#ff7e0e\",\"#2ba02b\",\"#d62628\",\"#9367bc\",\"#8c564b\",\"#e277c1\",\"#7e7e7e\",\"#bcbc21\",\"#16bdcf\",\"#3a0182\",\"#004201\",\"#0fffa8\",\"#5d003f\",\"#bcbcff\",\"#d8afa1\",\"#b80080\",\"#004d52\",\"#6b6400\",\"#7c0100\",\"#6026ff\",\"#ffff9a\",\"#564964\",\"#8cb893\",\"#93fbff\",\"#018267\",\"#90ff00\",\"#8200a0\",\"#ac8944\",\"#5b3400\",\"#ffbff2\",\"#ff6e75\",\"#798cff\",\"#dd00ff\",\"#505646\",\"#004489\",\"#ffbf60\",\"#ff018c\",\"#bdc8cf\",\"#af97b5\",\"#b65600\",\"#017000\",\"#cd87ff\",\"#1cd646\",\"#bfebc3\",\"#7997b5\",\"#a56089\",\"#6e8956\",\"#bc7c75\",\"#8a2844\"],\"factors\":[\"Olonkinbyen\",\"Mogadishu\",\"Port-Aux-Francais\",\"Puerto Ayora\",\"Chonchi\",\"Edinburgh Of The Seven Seas\",\"Kodiak\",\"Georgetown\",\"Andovoranto\",\"Gadzhiyevo\",\"Tamanrasset\",\"Ilulissat\",\"Namibe\",\"Kingston\",\"Tofol\",\"Puerto Natales\",\"Whitman\",\"Albany\",\"Bethel\",\"Ushuaia\",\"Ciudad Lazaro Cardenas\",\"Makassar\",\"Murghob\",\"Wailua Homesteads\",\"Adamstown\",\"Levokumskoye\",\"Pathein\",\"Tiksi\",\"Waitangi\",\"Sinabang\",\"Grytviken\",\"Praia Da Vitoria\",\"Tobelo\",\"West Vero Corridor\",\"Jati\",\"Aktau\",\"Lebu\",\"Bilibino\",\"Ketchikan\",\"Port Mathurin\",\"Road Town\",\"Darnah\",\"Laguna\",\"Ribeira Grande\",\"East London\",\"Thompson\",\"Crane\",\"Punta Arenas\",\"Yantarnyy\",\"Rongelap\",\"Mili\",\"Jamestown\",\"Vilyuchinsk\",\"Blackmans Bay\",\"Port Elizabeth\",\"Mount Isa\",\"Yellowknife\",\"Margaret River\",\"Kavaratti\",\"West Island\",\"Richards Bay\",\"Tazovsky\",\"Atafu Village\",\"Flying Fish Cove\",\"Puente Alto\",\"Las Tablas\",\"Saldanha\",\"Khedbrahma\",\"Hawaiian Paradise Park\",\"Canutama\",\"Kisangani\",\"Kapa'A\",\"Kuna\",\"Kaa-Khem\",\"Usevia\",\"Howrah\",\"Udachny\",\"Black River\",\"Fort Bragg\",\"Sheopur\",\"Ad Darb\",\"Susuman\",\"Big Spring\",\"Kupang\",\"Betong\",\"Tralee\",\"Key West\",\"Codrington\",\"Betheny\",\"Hadibu\",\"Bredasdorp\",\"Tsiombe\",\"Dauphin\",\"La Passe\",\"Bordj Bou Arreridj\",\"College\",\"Zaozersk\",\"Saipan\",\"Villa De Soto\",\"Selfoss\",\"Inyonga\",\"Falam\",\"Langepas\",\"Tual\",\"Whitehorse\",\"Belyy Yar\",\"San Onofre\",\"Ambodifotatra\",\"Sheffield\",\"Kochubey\",\"Greymouth\",\"Buala\",\"Inarajan Village\",\"Kristiansund\",\"Miles City\",\"Cole Harbour\",\"Anadyr\",\"Enewetak\",\"Toropets\",\"Avarua\",\"Caraballeda\",\"Lorengau\",\"Badger\",\"Utrik\",\"Iqaluit\",\"Mariinsk\",\"Balakhani\",\"Omidiyeh\",\"Yenotayevka\",\"Acarau\",\"Stanley\",\"Lanciano\",\"Coahuayana De Hidalgo\",\"Auki\",\"Fonte Boa\",\"Papatowai\",\"Lompoc\",\"Bellefonte\",\"Sinop\",\"Aykhal\",\"Tolanaro\",\"Atherton\",\"Nadvoitsy\",\"Karratha\",\"Inhambane\",\"Guerrero Negro\",\"Qaqortoq\",\"Hargeysa\",\"Uliastay\",\"Kamina\",\"Iskateley\",\"Terville\",\"Tobruk\",\"Manati\",\"El Alto\",\"Pisco\",\"Isafjordur\",\"Talnakh\",\"Wittenburg\",\"Amos\",\"Kerikeri\",\"Kenai\",\"Polyarnyy\",\"Vila Velha\",\"Puerto Baquerizo Moreno\",\"Vega De Alatorre\",\"Hasaki\",\"Tyukalinsk\",\"Xichang\",\"Palmer\",\"Czestochowa\",\"Pingliang\",\"Petropavlovsk-Kamchatsky\",\"Ceres\",\"Conduaga\",\"Howard Springs\",\"Mpongwe\",\"La Sarre\",\"St. John'S\",\"La Ronge\",\"Zouerate\",\"Namtsy\",\"Asaita\",\"Santa Ana\",\"Nakama\",\"Kharp\",\"Kailua-Kona\",\"Hobyo\",\"Darmanesti\",\"Puerto Deseado\",\"Isangel\",\"Vulcanesti\",\"Port Alfred\",\"Yilan\",\"Afaahiti\",\"Shahrak\",\"Daru\",\"Wynyard\",\"Mgandu\",\"Fale Old Settlement\",\"Zeya\",\"Clovis\",\"Nemuro\",\"Berezovyy\",\"Tura\",\"Pyinmana\",\"Colonia\",\"Cockburn Town\",\"Aripuana\",\"Illapel\",\"Walvis Bay\",\"Lihue\",\"Egilsstadir\",\"Khamis Mushait\",\"Caleta De Carquin\",\"Sitka\",\"Calvinia\",\"Taipei\",\"Carnarvon\",\"San Andres\",\"Puerto Armuelles\",\"Masterton\",\"Luwuk\",\"Viedma\",\"Longyearbyen\",\"Barclayville\",\"Darwin\",\"Aasiaat\",\"Buba\",\"Alice Springs\",\"Hermanus\",\"Keflavik\",\"Wewak\",\"Kittila\",\"Smithers\",\"Deir Ez-Zor\",\"Khovd\",\"Tonkino\",\"Vilyuysk\",\"Honiara\",\"Qui Nhon\",\"Puttalam\",\"Nan\",\"Antigonish\",\"San Juan\",\"Kalmunai\",\"Remire-Montjoly\",\"Bamboo Flat\",\"Acapulco De Juarez\",\"Le Port\",\"Manavalakurichi\",\"Rio Grande\",\"Miquelon\",\"Noumea\",\"Noosa Heads\",\"Zheleznovodsk\",\"Omdurman\",\"La Grange\",\"Massena\",\"Shpola\",\"Kavieng\",\"Thunder Bay\",\"Klerksdorp\",\"Linhares\",\"Nizhniy Odes\",\"Cabo San Lucas\",\"Tadine\",\"Antsiranana\",\"Lubny\",\"Waldbrol\",\"Haiku-Pauwela\",\"Byron Center\",\"Queenstown\",\"Ormond-By-The-Sea\",\"Tarko-Sale\",\"Alto Araguaia\",\"Gumushacikoy\",\"Yaren\",\"Gamay\",\"Yunguyo\",\"Sopela\",\"Ust-Nera\",\"Santa Terezinha\",\"Flekkefjord\",\"Reyes\",\"Kongolo\",\"Franceville\",\"Manaure\",\"Lashio\",\"Wenatchee\",\"Hami\",\"Zanjan\",\"Prado\",\"Mitu\",\"Vorgashor\",\"Palikir - National Government Center\",\"Rhinelander\",\"Ancud\",\"Kismayo\",\"Sao Tome\",\"Carbonear\",\"Taoudenni\",\"Amherst\",\"Antalaha\",\"Sao Gabriel Da Cachoeira\",\"Weno\",\"Pemangkat\",\"Barra De Santo Antonio\",\"Hamilton\",\"Ovalle\",\"El Granada\",\"Mandal\",\"Bayevo\",\"Vadso\",\"Nizhnyaya Poyma\",\"Marka\",\"Mejit\",\"Tapes\",\"Nova Olinda Do Norte\",\"Saynshand\",\"Invercargill\",\"Kamloops\",\"Nyurba\",\"Bridgeport\",\"Impfondo\",\"Havre\",\"Kununurra\",\"Osorno\",\"Ta`U\",\"Bayanhongor\",\"Las Khorey\",\"Luderitz\",\"Linxia Chengguanzhen\",\"Tefe\",\"Puri\",\"Berber\",\"Summerlin South\",\"Mendi\",\"Kapuskasing\",\"Malango\",\"Visakhapatnam\",\"Nova Sintra\",\"Cabedelo\",\"Holualoa\",\"Andkhoy\",\"Edson\",\"Trinidad\",\"Kangding\",\"Fiambala\",\"Alofi\",\"Broome\",\"Arraial Do Cabo\",\"Usogorsk\",\"Urangan\",\"Atar\",\"Berlin\",\"Illizi\",\"La'Ie\",\"Harper\",\"Mahanje\",\"Scottburgh\",\"Arrifes\",\"Klyuchi\",\"Ukholovo\",\"Khorugh\",\"Nakhon Nayok\",\"Mastic Beach\",\"Magdagachi\",\"Quelimane\",\"Iquique\",\"Uturoa\",\"Port Macquarie\",\"Labrador City\",\"Gunjur\",\"San Antonio De Pale\",\"Selkirk\",\"Sisimiut\",\"Tommot\",\"Abhar\",\"Bouna\",\"Vorkuta\",\"Grants\",\"Kasongo-Lunda\",\"East Grand Forks\",\"Beira\",\"Bikenibeu Village\",\"Cherepovets\",\"Arica\",\"Sennori\",\"Vetlanda\",\"Nagqu\",\"Anantapur\",\"Levuka\",\"Pandan\",\"Banda Aceh\",\"Sosnovka\",\"Harar\",\"La Trinite\",\"Buka\",\"Frontera\",\"Taroa\",\"Timimoun\",\"Lithgow\",\"Zhezqazghan\",\"Tumpat\",\"Klaksvik\",\"Sabang\",\"Sarupathar\",\"Visby\",\"Osmancik\",\"Peace River\",\"Kampene\",\"Dudinka\",\"Orsa\",\"San Patricio\",\"Taltal\",\"Dunedin\",\"Thinadhoo\",\"Arteche\",\"Leua\",\"Babolsar\",\"Kamba\",\"Ciudad Real\",\"Revda\",\"Sydney\",\"Nar'Yan-Mar\",\"Ghat\",\"Lata\",\"Opuwo\",\"Hithadhoo\",\"Chibougamau\",\"Maraba\",\"Vernon\",\"Lautoka\",\"Ibiza\",\"Kurchatov\",\"Wegrow\",\"Amga\",\"Mildura\",\"Bay Roberts\",\"Nguigmi\",\"Malvan\",\"Sretensk\",\"Ceelbuur\",\"Constantia\",\"Dawei\",\"Yakakent\",\"Sao Jose Da Coroa Grande\",\"Pechora\",\"Sao Paulo De Olivenca\",\"Santa Isabel\",\"Wakkanai\",\"Kuandian\",\"Ojinaga\",\"Medicine Hat\",\"Bonanza\",\"Kingaroy\",\"Kyabram\",\"Goundam\",\"Kuanda\",\"Igarka\",\"Yeppoon\",\"Bubaque\",\"City Of Balikpapan\",\"Dire\",\"Kalymnos\",\"Troitskaya\",\"Hansot\",\"Primorskiy\",\"Olds\",\"Akureyri\",\"Sao Filipe\",\"Kabalo\",\"Xicotencatl\",\"Pimenta Bueno\",\"Olinda\",\"Imbituba\",\"Severo-Yeniseyskiy\",\"Kirakira\",\"Cannonvale\",\"Kamaishi\",\"Cao Bang\",\"Moses Lake\",\"Nahiyat Ash Shinafiyah\",\"Magadi\",\"West End\",\"Irymple\",\"Pangai\",\"Solleftea\",\"Wellington\",\"Broken Hill\",\"Cape Town\",\"Margate\",\"Ndibene Dahra\",\"Taulaga\",\"Tazacorte\",\"Mohammedia\",\"Beaufort\",\"Colby\",\"Christchurch\",\"Hotan\",\"La Tuque\",\"Horta\",\"Dayr Al Balah\",\"Mani\",\"Campbell River\",\"Hanceville\",\"Oltinko'L\",\"Vila Franca Do Campo\",\"Gaspe\",\"Bom Jesus\",\"Barabai\",\"Dhanwar\",\"Port Saint John'S\",\"Pontianak\",\"Yuzhno-Kurilsk\",\"Bloomingdale\",\"Kuala Terengganu\",\"Bogande\",\"Ivdel'\",\"Harstad\",\"Contamana\",\"North Haven\",\"Rabka-Zdroj\",\"Hohhot\",\"Viru\",\"Malmberget\",\"Hsinchu\",\"Isiro\",\"Mount Gambier\",\"Port Blair\",\"Portland\",\"Gargalianoi\",\"Forster\",\"Ebon\",\"Jawf Al Maqbabah\",\"Al Ghayzah\",\"Mbaiki\",\"Carrigaline\",\"Takestan\",\"Santana\",\"Qala I Naw\",\"Tayshet\",\"Wenxing\",\"Cururupu\",\"Tikamgarh\",\"Nadym\",\"Crucecita\",\"Kazanskoye\",\"Bandundu\",\"Dongola\",\"Coquimbo\",\"Ad Douiem\",\"Bairnsdale\",\"Guayaramerin\",\"Ust'-Kulom\",\"Saint-Philippe\",\"Constitucion\",\"Huaraz\",\"Nabire\",\"Kotido\",\"Kozluk\"]}}},\"fill_color\":{\"type\":\"field\",\"field\":\"color\",\"transform\":{\"id\":\"p1081\"}},\"hatch_color\":{\"type\":\"field\",\"field\":\"color\",\"transform\":{\"id\":\"p1081\"}}}},\"selection_glyph\":{\"type\":\"object\",\"name\":\"Scatter\",\"id\":\"p1090\",\"attributes\":{\"tags\":[\"apply_ranges\"],\"x\":{\"type\":\"field\",\"field\":\"Lng\"},\"y\":{\"type\":\"field\",\"field\":\"Lat\"},\"size\":{\"type\":\"field\",\"field\":\"size\"},\"line_color\":{\"type\":\"field\",\"field\":\"color\",\"transform\":{\"id\":\"p1081\"}},\"fill_color\":{\"type\":\"field\",\"field\":\"color\",\"transform\":{\"id\":\"p1081\"}},\"hatch_color\":{\"type\":\"field\",\"field\":\"color\",\"transform\":{\"id\":\"p1081\"}}}},\"nonselection_glyph\":{\"type\":\"object\",\"name\":\"Scatter\",\"id\":\"p1089\",\"attributes\":{\"tags\":[\"apply_ranges\"],\"x\":{\"type\":\"field\",\"field\":\"Lng\"},\"y\":{\"type\":\"field\",\"field\":\"Lat\"},\"size\":{\"type\":\"field\",\"field\":\"size\"},\"line_color\":{\"type\":\"field\",\"field\":\"color\",\"transform\":{\"id\":\"p1081\"}},\"line_alpha\":{\"type\":\"value\",\"value\":0.1},\"fill_color\":{\"type\":\"field\",\"field\":\"color\",\"transform\":{\"id\":\"p1081\"}},\"fill_alpha\":{\"type\":\"value\",\"value\":0.1},\"hatch_color\":{\"type\":\"field\",\"field\":\"color\",\"transform\":{\"id\":\"p1081\"}},\"hatch_alpha\":{\"type\":\"value\",\"value\":0.1}}},\"hover_glyph\":{\"type\":\"object\",\"name\":\"Scatter\",\"id\":\"p1091\",\"attributes\":{\"tags\":[\"apply_ranges\"],\"x\":{\"type\":\"field\",\"field\":\"Lng\"},\"y\":{\"type\":\"field\",\"field\":\"Lat\"},\"size\":{\"type\":\"field\",\"field\":\"size\"},\"line_color\":{\"type\":\"field\",\"field\":\"color\",\"transform\":{\"id\":\"p1081\"}},\"fill_color\":{\"type\":\"field\",\"field\":\"color\",\"transform\":{\"id\":\"p1081\"}},\"hatch_color\":{\"type\":\"field\",\"field\":\"color\",\"transform\":{\"id\":\"p1081\"}}}},\"muted_glyph\":{\"type\":\"object\",\"name\":\"Scatter\",\"id\":\"p1092\",\"attributes\":{\"tags\":[\"apply_ranges\"],\"x\":{\"type\":\"field\",\"field\":\"Lng\"},\"y\":{\"type\":\"field\",\"field\":\"Lat\"},\"size\":{\"type\":\"field\",\"field\":\"size\"},\"line_color\":{\"type\":\"field\",\"field\":\"color\",\"transform\":{\"id\":\"p1081\"}},\"line_alpha\":{\"type\":\"value\",\"value\":0.2},\"fill_color\":{\"type\":\"field\",\"field\":\"color\",\"transform\":{\"id\":\"p1081\"}},\"fill_alpha\":{\"type\":\"value\",\"value\":0.2},\"hatch_color\":{\"type\":\"field\",\"field\":\"color\",\"transform\":{\"id\":\"p1081\"}},\"hatch_alpha\":{\"type\":\"value\",\"value\":0.2}}}}}],\"toolbar\":{\"type\":\"object\",\"name\":\"Toolbar\",\"id\":\"p1053\",\"attributes\":{\"tools\":[{\"type\":\"object\",\"name\":\"WheelZoomTool\",\"id\":\"p1029\",\"attributes\":{\"renderers\":\"auto\",\"zoom_on_axis\":false}},{\"type\":\"object\",\"name\":\"BoxZoomTool\",\"id\":\"p1030\",\"attributes\":{\"overlay\":{\"type\":\"object\",\"name\":\"BoxAnnotation\",\"id\":\"p1006\",\"attributes\":{\"syncable\":false,\"level\":\"overlay\",\"visible\":false,\"left\":{\"type\":\"number\",\"value\":\"nan\"},\"right\":{\"type\":\"number\",\"value\":\"nan\"},\"top\":{\"type\":\"number\",\"value\":\"nan\"},\"bottom\":{\"type\":\"number\",\"value\":\"nan\"},\"left_units\":\"canvas\",\"right_units\":\"canvas\",\"top_units\":\"canvas\",\"bottom_units\":\"canvas\",\"line_color\":\"black\",\"line_alpha\":1.0,\"line_width\":2,\"line_dash\":[4,4],\"fill_color\":\"lightgrey\",\"fill_alpha\":0.5}},\"match_aspect\":true}},{\"type\":\"object\",\"name\":\"HoverTool\",\"id\":\"p1043\",\"attributes\":{\"tags\":[\"hv_created\"],\"renderers\":[{\"id\":\"p1093\"}],\"tooltips\":[[\"Lng\",\"$x{custom}\"],[\"Lat\",\"$y{custom}\"],[\"City\",\"@{City}\"],[\"Humidity\",\"@{Humidity}\"]],\"formatters\":{\"type\":\"map\",\"entries\":[[\"$x\",{\"type\":\"object\",\"name\":\"CustomJSHover\",\"id\":\"p1098\",\"attributes\":{\"code\":\"\\n        const projections = Bokeh.require(\\\"core/util/projections\\\");\\n        const {snap_x, snap_y} = special_vars\\n        const coords = projections.wgs84_mercator.invert(snap_x, snap_y)\\n        return \\\"\\\" + (coords[0]).toFixed(4)\\n    \"}}],[\"$y\",{\"type\":\"object\",\"name\":\"CustomJSHover\",\"id\":\"p1099\",\"attributes\":{\"code\":\"\\n        const projections = Bokeh.require(\\\"core/util/projections\\\");\\n        const {snap_x, snap_y} = special_vars\\n        const coords = projections.wgs84_mercator.invert(snap_x, snap_y)\\n        return \\\"\\\" + (coords[1]).toFixed(4)\\n    \"}}]]}}},{\"type\":\"object\",\"name\":\"PanTool\",\"id\":\"p1067\"},{\"type\":\"object\",\"name\":\"ResetTool\",\"id\":\"p1068\"}],\"active_drag\":{\"id\":\"p1067\"}}},\"left\":[{\"type\":\"object\",\"name\":\"LinearAxis\",\"id\":\"p1061\",\"attributes\":{\"ticker\":{\"type\":\"object\",\"name\":\"MercatorTicker\",\"id\":\"p1071\",\"attributes\":{\"mantissas\":[1,2,5],\"dimension\":\"lat\"}},\"formatter\":{\"type\":\"object\",\"name\":\"MercatorTickFormatter\",\"id\":\"p1072\",\"attributes\":{\"dimension\":\"lat\"}},\"axis_label\":\"Latitude\",\"major_label_policy\":{\"type\":\"object\",\"name\":\"AllLabels\",\"id\":\"p1064\"}}}],\"right\":[{\"type\":\"object\",\"name\":\"Legend\",\"id\":\"p1096\",\"attributes\":{\"location\":[0,0],\"click_policy\":\"mute\",\"items\":[{\"type\":\"object\",\"name\":\"LegendItem\",\"id\":\"p1097\",\"attributes\":{\"label\":{\"type\":\"field\",\"field\":\"color\"},\"renderers\":[{\"id\":\"p1093\"}]}}]}}],\"below\":[{\"type\":\"object\",\"name\":\"LinearAxis\",\"id\":\"p1056\",\"attributes\":{\"ticker\":{\"type\":\"object\",\"name\":\"MercatorTicker\",\"id\":\"p1069\",\"attributes\":{\"mantissas\":[1,2,5],\"dimension\":\"lon\"}},\"formatter\":{\"type\":\"object\",\"name\":\"MercatorTickFormatter\",\"id\":\"p1070\",\"attributes\":{\"dimension\":\"lon\"}},\"axis_label\":\"Longitude\",\"major_label_policy\":{\"type\":\"object\",\"name\":\"AllLabels\",\"id\":\"p1059\"}}}],\"center\":[{\"type\":\"object\",\"name\":\"Grid\",\"id\":\"p1060\",\"attributes\":{\"axis\":{\"id\":\"p1056\"},\"grid_line_color\":null}},{\"type\":\"object\",\"name\":\"Grid\",\"id\":\"p1065\",\"attributes\":{\"dimension\":1,\"axis\":{\"id\":\"p1061\"},\"grid_line_color\":null}}],\"frame_width\":700,\"frame_height\":500,\"min_border_top\":10,\"min_border_bottom\":10,\"min_border_left\":10,\"min_border_right\":10,\"output_backend\":\"webgl\",\"match_aspect\":true}},{\"type\":\"object\",\"name\":\"Spacer\",\"id\":\"p1101\",\"attributes\":{\"name\":\"HSpacer01695\",\"stylesheets\":[\"\\n:host(.pn-loading.pn-arc):before, .pn-loading.pn-arc:before {\\n  background-image: url(\\\"data:image/svg+xml;base64,PHN2ZyB4bWxucz0iaHR0cDovL3d3dy53My5vcmcvMjAwMC9zdmciIHN0eWxlPSJtYXJnaW46IGF1dG87IGJhY2tncm91bmQ6IG5vbmU7IGRpc3BsYXk6IGJsb2NrOyBzaGFwZS1yZW5kZXJpbmc6IGF1dG87IiB2aWV3Qm94PSIwIDAgMTAwIDEwMCIgcHJlc2VydmVBc3BlY3RSYXRpbz0ieE1pZFlNaWQiPiAgPGNpcmNsZSBjeD0iNTAiIGN5PSI1MCIgZmlsbD0ibm9uZSIgc3Ryb2tlPSIjYzNjM2MzIiBzdHJva2Utd2lkdGg9IjEwIiByPSIzNSIgc3Ryb2tlLWRhc2hhcnJheT0iMTY0LjkzMzYxNDMxMzQ2NDE1IDU2Ljk3Nzg3MTQzNzgyMTM4Ij4gICAgPGFuaW1hdGVUcmFuc2Zvcm0gYXR0cmlidXRlTmFtZT0idHJhbnNmb3JtIiB0eXBlPSJyb3RhdGUiIHJlcGVhdENvdW50PSJpbmRlZmluaXRlIiBkdXI9IjFzIiB2YWx1ZXM9IjAgNTAgNTA7MzYwIDUwIDUwIiBrZXlUaW1lcz0iMDsxIj48L2FuaW1hdGVUcmFuc2Zvcm0+ICA8L2NpcmNsZT48L3N2Zz4=\\\");\\n  background-size: auto calc(min(50%, 400px));\\n}\",{\"id\":\"p1014\"},{\"id\":\"p1012\"},{\"id\":\"p1013\"}],\"margin\":0,\"sizing_mode\":\"stretch_width\",\"align\":\"start\"}}]}}],\"defs\":[{\"type\":\"model\",\"name\":\"ReactiveHTML1\"},{\"type\":\"model\",\"name\":\"FlexBox1\",\"properties\":[{\"name\":\"align_content\",\"kind\":\"Any\",\"default\":\"flex-start\"},{\"name\":\"align_items\",\"kind\":\"Any\",\"default\":\"flex-start\"},{\"name\":\"flex_direction\",\"kind\":\"Any\",\"default\":\"row\"},{\"name\":\"flex_wrap\",\"kind\":\"Any\",\"default\":\"wrap\"},{\"name\":\"justify_content\",\"kind\":\"Any\",\"default\":\"flex-start\"}]},{\"type\":\"model\",\"name\":\"FloatPanel1\",\"properties\":[{\"name\":\"config\",\"kind\":\"Any\",\"default\":{\"type\":\"map\"}},{\"name\":\"contained\",\"kind\":\"Any\",\"default\":true},{\"name\":\"position\",\"kind\":\"Any\",\"default\":\"right-top\"},{\"name\":\"offsetx\",\"kind\":\"Any\",\"default\":null},{\"name\":\"offsety\",\"kind\":\"Any\",\"default\":null},{\"name\":\"theme\",\"kind\":\"Any\",\"default\":\"primary\"},{\"name\":\"status\",\"kind\":\"Any\",\"default\":\"normalized\"}]},{\"type\":\"model\",\"name\":\"GridStack1\",\"properties\":[{\"name\":\"mode\",\"kind\":\"Any\",\"default\":\"warn\"},{\"name\":\"ncols\",\"kind\":\"Any\",\"default\":null},{\"name\":\"nrows\",\"kind\":\"Any\",\"default\":null},{\"name\":\"allow_resize\",\"kind\":\"Any\",\"default\":true},{\"name\":\"allow_drag\",\"kind\":\"Any\",\"default\":true},{\"name\":\"state\",\"kind\":\"Any\",\"default\":[]}]},{\"type\":\"model\",\"name\":\"drag1\",\"properties\":[{\"name\":\"slider_width\",\"kind\":\"Any\",\"default\":5},{\"name\":\"slider_color\",\"kind\":\"Any\",\"default\":\"black\"},{\"name\":\"value\",\"kind\":\"Any\",\"default\":50}]},{\"type\":\"model\",\"name\":\"click1\",\"properties\":[{\"name\":\"terminal_output\",\"kind\":\"Any\",\"default\":\"\"},{\"name\":\"debug_name\",\"kind\":\"Any\",\"default\":\"\"},{\"name\":\"clears\",\"kind\":\"Any\",\"default\":0}]},{\"type\":\"model\",\"name\":\"copy_to_clipboard1\",\"properties\":[{\"name\":\"fill\",\"kind\":\"Any\",\"default\":\"none\"},{\"name\":\"value\",\"kind\":\"Any\",\"default\":null}]},{\"type\":\"model\",\"name\":\"FastWrapper1\",\"properties\":[{\"name\":\"object\",\"kind\":\"Any\",\"default\":null},{\"name\":\"style\",\"kind\":\"Any\",\"default\":null}]},{\"type\":\"model\",\"name\":\"NotificationAreaBase1\",\"properties\":[{\"name\":\"js_events\",\"kind\":\"Any\",\"default\":{\"type\":\"map\"}},{\"name\":\"position\",\"kind\":\"Any\",\"default\":\"bottom-right\"},{\"name\":\"_clear\",\"kind\":\"Any\",\"default\":0}]},{\"type\":\"model\",\"name\":\"NotificationArea1\",\"properties\":[{\"name\":\"js_events\",\"kind\":\"Any\",\"default\":{\"type\":\"map\"}},{\"name\":\"notifications\",\"kind\":\"Any\",\"default\":[]},{\"name\":\"position\",\"kind\":\"Any\",\"default\":\"bottom-right\"},{\"name\":\"_clear\",\"kind\":\"Any\",\"default\":0},{\"name\":\"types\",\"kind\":\"Any\",\"default\":[{\"type\":\"map\",\"entries\":[[\"type\",\"warning\"],[\"background\",\"#ffc107\"],[\"icon\",{\"type\":\"map\",\"entries\":[[\"className\",\"fas fa-exclamation-triangle\"],[\"tagName\",\"i\"],[\"color\",\"white\"]]}]]},{\"type\":\"map\",\"entries\":[[\"type\",\"info\"],[\"background\",\"#007bff\"],[\"icon\",{\"type\":\"map\",\"entries\":[[\"className\",\"fas fa-info-circle\"],[\"tagName\",\"i\"],[\"color\",\"white\"]]}]]}]}]},{\"type\":\"model\",\"name\":\"Notification\",\"properties\":[{\"name\":\"background\",\"kind\":\"Any\",\"default\":null},{\"name\":\"duration\",\"kind\":\"Any\",\"default\":3000},{\"name\":\"icon\",\"kind\":\"Any\",\"default\":null},{\"name\":\"message\",\"kind\":\"Any\",\"default\":\"\"},{\"name\":\"notification_type\",\"kind\":\"Any\",\"default\":null},{\"name\":\"_destroyed\",\"kind\":\"Any\",\"default\":false}]},{\"type\":\"model\",\"name\":\"TemplateActions1\",\"properties\":[{\"name\":\"open_modal\",\"kind\":\"Any\",\"default\":0},{\"name\":\"close_modal\",\"kind\":\"Any\",\"default\":0}]},{\"type\":\"model\",\"name\":\"BootstrapTemplateActions1\",\"properties\":[{\"name\":\"open_modal\",\"kind\":\"Any\",\"default\":0},{\"name\":\"close_modal\",\"kind\":\"Any\",\"default\":0}]},{\"type\":\"model\",\"name\":\"MaterialTemplateActions1\",\"properties\":[{\"name\":\"open_modal\",\"kind\":\"Any\",\"default\":0},{\"name\":\"close_modal\",\"kind\":\"Any\",\"default\":0}]}]}};\n",
       "  var render_items = [{\"docid\":\"68391c42-98f0-47f0-b4dc-9bf17b5b6d7e\",\"roots\":{\"p1011\":\"d7261eca-7787-4835-8571-37339ef26779\"},\"root_ids\":[\"p1011\"]}];\n",
       "  var docs = Object.values(docs_json)\n",
       "  if (!docs) {\n",
       "    return\n",
       "  }\n",
       "  const py_version = docs[0].version.replace('rc', '-rc.').replace('.dev', '-dev.')\n",
       "  function embed_document(root) {\n",
       "    var Bokeh = get_bokeh(root)\n",
       "    Bokeh.embed.embed_items_notebook(docs_json, render_items);\n",
       "    for (const render_item of render_items) {\n",
       "      for (const root_id of render_item.root_ids) {\n",
       "\tconst id_el = document.getElementById(root_id)\n",
       "\tif (id_el.children.length && (id_el.children[0].className === 'bk-root')) {\n",
       "\t  const root_el = id_el.children[0]\n",
       "\t  root_el.id = root_el.id + '-rendered'\n",
       "\t}\n",
       "      }\n",
       "    }\n",
       "  }\n",
       "  function get_bokeh(root) {\n",
       "    if (root.Bokeh === undefined) {\n",
       "      return null\n",
       "    } else if (root.Bokeh.version !== py_version) {\n",
       "      if (root.Bokeh.versions === undefined || !root.Bokeh.versions.has(py_version)) {\n",
       "\treturn null\n",
       "      }\n",
       "      return root.Bokeh.versions.get(py_version);\n",
       "    } else if (root.Bokeh.version === py_version) {\n",
       "      return root.Bokeh\n",
       "    }\n",
       "    return null\n",
       "  }\n",
       "  function is_loaded(root) {\n",
       "    var Bokeh = get_bokeh(root)\n",
       "    return (Bokeh != null && Bokeh.Panel !== undefined)\n",
       "  }\n",
       "  if (is_loaded(root)) {\n",
       "    embed_document(root);\n",
       "  } else {\n",
       "    var attempts = 0;\n",
       "    var timer = setInterval(function(root) {\n",
       "      if (is_loaded(root)) {\n",
       "        clearInterval(timer);\n",
       "        embed_document(root);\n",
       "      } else if (document.readyState == \"complete\") {\n",
       "        attempts++;\n",
       "        if (attempts > 200) {\n",
       "          clearInterval(timer);\n",
       "\t  var Bokeh = get_bokeh(root)\n",
       "\t  if (Bokeh == null || Bokeh.Panel == null) {\n",
       "            console.warn(\"Panel: ERROR: Unable to run Panel code because Bokeh or Panel library is missing\");\n",
       "\t  } else {\n",
       "\t    console.warn(\"Panel: WARNING: Attempting to render but not all required libraries could be resolved.\")\n",
       "\t    embed_document(root)\n",
       "\t  }\n",
       "        }\n",
       "      }\n",
       "    }, 25, root)\n",
       "  }\n",
       "})(window);</script>"
      ],
      "text/plain": [
       ":Overlay\n",
       "   .WMTS.I   :WMTS   [Longitude,Latitude]\n",
       "   .Points.I :Points   [Lng,Lat]   (City,Humidity)"
      ]
     },
     "execution_count": 7,
     "metadata": {
      "application/vnd.holoviews_exec.v0+json": {
       "id": "p1011"
      }
     },
     "output_type": "execute_result"
    }
   ],
   "source": [
    "# a world map depicting humidity levels for each city\n",
    "weather_df.hvplot.points(\n",
    "    \"Lng\",\n",
    "    \"Lat\",\n",
    "    geo=True,\n",
    "    tiles=\"OSM\",\n",
    "    size=\"Humidity\",\n",
    "    frame_height=500,\n",
    "    frame_width=700,\n",
    "    color=\"City\"\n",
    ")\n",
    "\n"
   ]
  },
  {
   "cell_type": "markdown",
   "metadata": {},
   "source": [
    "Step 2: Narrow down the weather_df DataFrame to find your ideal weather condition"
   ]
  },
  {
   "cell_type": "code",
   "execution_count": 8,
   "metadata": {},
   "outputs": [
    {
     "data": {
      "text/html": [
       "<div>\n",
       "<style scoped>\n",
       "    .dataframe tbody tr th:only-of-type {\n",
       "        vertical-align: middle;\n",
       "    }\n",
       "\n",
       "    .dataframe tbody tr th {\n",
       "        vertical-align: top;\n",
       "    }\n",
       "\n",
       "    .dataframe thead th {\n",
       "        text-align: right;\n",
       "    }\n",
       "</style>\n",
       "<table border=\"1\" class=\"dataframe\">\n",
       "  <thead>\n",
       "    <tr style=\"text-align: right;\">\n",
       "      <th></th>\n",
       "      <th>City_ID</th>\n",
       "      <th>City</th>\n",
       "      <th>Lat</th>\n",
       "      <th>Lng</th>\n",
       "      <th>Max Temp</th>\n",
       "      <th>Humidity</th>\n",
       "      <th>Cloudiness</th>\n",
       "      <th>Wind Speed</th>\n",
       "      <th>Country</th>\n",
       "      <th>Date</th>\n",
       "    </tr>\n",
       "  </thead>\n",
       "  <tbody>\n",
       "    <tr>\n",
       "      <th>0</th>\n",
       "      <td>0</td>\n",
       "      <td>Olonkinbyen</td>\n",
       "      <td>70.9221</td>\n",
       "      <td>-8.7187</td>\n",
       "      <td>-2.64</td>\n",
       "      <td>62</td>\n",
       "      <td>6</td>\n",
       "      <td>4.46</td>\n",
       "      <td>SJ</td>\n",
       "      <td>1707490169</td>\n",
       "    </tr>\n",
       "    <tr>\n",
       "      <th>4</th>\n",
       "      <td>4</td>\n",
       "      <td>Chonchi</td>\n",
       "      <td>-42.6128</td>\n",
       "      <td>-73.8092</td>\n",
       "      <td>19.62</td>\n",
       "      <td>47</td>\n",
       "      <td>100</td>\n",
       "      <td>2.00</td>\n",
       "      <td>CL</td>\n",
       "      <td>1707489953</td>\n",
       "    </tr>\n",
       "    <tr>\n",
       "      <th>10</th>\n",
       "      <td>10</td>\n",
       "      <td>Tamanrasset</td>\n",
       "      <td>22.7850</td>\n",
       "      <td>5.5228</td>\n",
       "      <td>23.95</td>\n",
       "      <td>8</td>\n",
       "      <td>0</td>\n",
       "      <td>4.12</td>\n",
       "      <td>DZ</td>\n",
       "      <td>1707489985</td>\n",
       "    </tr>\n",
       "    <tr>\n",
       "      <th>11</th>\n",
       "      <td>11</td>\n",
       "      <td>Ilulissat</td>\n",
       "      <td>69.2167</td>\n",
       "      <td>-51.1000</td>\n",
       "      <td>-16.99</td>\n",
       "      <td>60</td>\n",
       "      <td>40</td>\n",
       "      <td>11.83</td>\n",
       "      <td>GL</td>\n",
       "      <td>1707490170</td>\n",
       "    </tr>\n",
       "    <tr>\n",
       "      <th>13</th>\n",
       "      <td>13</td>\n",
       "      <td>Kingston</td>\n",
       "      <td>17.9970</td>\n",
       "      <td>-76.7936</td>\n",
       "      <td>27.53</td>\n",
       "      <td>61</td>\n",
       "      <td>20</td>\n",
       "      <td>3.09</td>\n",
       "      <td>JM</td>\n",
       "      <td>1707490010</td>\n",
       "    </tr>\n",
       "  </tbody>\n",
       "</table>\n",
       "</div>"
      ],
      "text/plain": [
       "    City_ID         City      Lat      Lng  Max Temp  Humidity  Cloudiness  \\\n",
       "0         0  Olonkinbyen  70.9221  -8.7187     -2.64        62           6   \n",
       "4         4      Chonchi -42.6128 -73.8092     19.62        47         100   \n",
       "10       10  Tamanrasset  22.7850   5.5228     23.95         8           0   \n",
       "11       11    Ilulissat  69.2167 -51.1000    -16.99        60          40   \n",
       "13       13     Kingston  17.9970 -76.7936     27.53        61          20   \n",
       "\n",
       "    Wind Speed Country        Date  \n",
       "0         4.46      SJ  1707490169  \n",
       "4         2.00      CL  1707489953  \n",
       "10        4.12      DZ  1707489985  \n",
       "11       11.83      GL  1707490170  \n",
       "13        3.09      JM  1707490010  "
      ]
     },
     "execution_count": 8,
     "metadata": {},
     "output_type": "execute_result"
    }
   ],
   "source": [
    "# filter the weather_df for cities with humidity levels less than 70%\n",
    "low_humidity_df = weather_df.loc[weather_df[\"Humidity\"] < 70]\n",
    "low_humidity_df.head()\n",
    "\n",
    "# drop ay rows with NaN values\n",
    "low_humidity_df = low_humidity_df.dropna()\n",
    "low_humidity_df.head()"
   ]
  },
  {
   "cell_type": "markdown",
   "metadata": {},
   "source": [
    "Step 3: Create a new DataFrame called hotel_df"
   ]
  },
  {
   "cell_type": "code",
   "execution_count": 30,
   "metadata": {},
   "outputs": [
    {
     "data": {
      "text/plain": [
       "(194, 6)"
      ]
     },
     "execution_count": 30,
     "metadata": {},
     "output_type": "execute_result"
    }
   ],
   "source": [
    "# use the Pandas copy function to create a DataFrame called hotel_df to store the city, country, coordinates and humidity\n",
    "hotel_df = low_humidity_df[[\"City\", \"Country\", \"Lat\", \"Lng\", \"Humidity\"]].copy()\n",
    "\n",
    "# add a new column to the hotel_df called \"Hotel Name\"\n",
    "hotel_df[\"Hotel Name\"] = \"\"\n",
    "hotel_df.head()\n"
   ]
  },
  {
   "cell_type": "markdown",
   "metadata": {},
   "source": [
    "Step 4: For each city, use the Geoapify API to find the first hotel located within 10,000 meters of your coordinates."
   ]
  },
  {
   "cell_type": "code",
   "execution_count": null,
   "metadata": {},
   "outputs": [],
   "source": [
    "# define the search categories\n",
    "categories = \"accommodation.hotel\"\n",
    "\n",
    "# define the search radius\n",
    "radius = 10000\n",
    "\n",
    "# define the search limit\n",
    "limit = 1\n",
    "\n",
    "# define the parameters dictionary\n",
    "params = {\n",
    "    \"categories\":categories,\n",
    "    \"limit\":limit,\n",
    "    \"apiKey\":geoapify_api_key\n",
    "}\n",
    "\n",
    "# print a message to follow up the hotel search\n",
    "print(\"Starting hotel search\")\n",
    "\n",
    "# iterate through the hotel_df and retrieve the hotel name for each city\n",
    "for index, row in hotel_df.iterrows():\n",
    "    # get the latitude and longitude\n",
    "    lat = row[\"Lat\"]\n",
    "    lng = row[\"Lng\"]\n",
    "    \n",
    "    # add the latitude and longitude to the parameters dictionary\n",
    "    params[\"filter\"] = f\"circle:{lng},{lat},{radius}\"\n",
    "    params[\"bias\"] = f\"proximity:{lng},{lat}\"\n",
    "\n",
    "    # set the base URL for the Geoapify API\n",
    "    base_url = \"https://api.geoapify.com/v2/places\"\n",
    "\n",
    "    # run the API request using the parameters dictionary and convert the response to JSON\n",
    "    name_address = requests.get(base_url, params=params).json()\n",
    "    \n",
    "    # get the first hotel name from the response and store it in the hotel_df\n",
    "    try:\n",
    "        hotel_df.loc[index, \"Hotel Name\"] = name_address[\"features\"][0][\"properties\"][\"name\"]\n",
    "    except (IndexError, KeyError):\n",
    "        hotel_df.loc[index, \"Hotel Name\"] = \"Hotel not found\"\n",
    "\n",
    "    # log the search results\n",
    "    print(f\"{hotel_df.loc[index, 'City']} - nearest hotel: {hotel_df.loc[index, 'Hotel Name']}\")\n",
    "\n",
    "# display the hotel_df\n",
    "hotel_df\n"
   ]
  },
  {
   "cell_type": "markdown",
   "metadata": {},
   "source": [
    "Step 5: Add the hotel name and the country as additional information in the hover message for each city in the map."
   ]
  },
  {
   "cell_type": "code",
   "execution_count": null,
   "metadata": {},
   "outputs": [],
   "source": [
    "# configure the map plot\n"
   ]
  }
 ],
 "metadata": {
  "kernelspec": {
   "display_name": ".venv",
   "language": "python",
   "name": "python3"
  },
  "language_info": {
   "codemirror_mode": {
    "name": "ipython",
    "version": 3
   },
   "file_extension": ".py",
   "mimetype": "text/x-python",
   "name": "python",
   "nbconvert_exporter": "python",
   "pygments_lexer": "ipython3",
   "version": "3.9.6"
  }
 },
 "nbformat": 4,
 "nbformat_minor": 2
}
