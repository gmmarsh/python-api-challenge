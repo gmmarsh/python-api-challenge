{
 "cells": [
  {
   "cell_type": "markdown",
   "metadata": {},
   "source": [
    "VacationPy"
   ]
  },
  {
   "cell_type": "code",
   "execution_count": null,
   "metadata": {},
   "outputs": [],
   "source": [
    "# dependencies\n",
    "import hvplot.pandas\n",
    "import pandas as pd\n",
    "import requests\n",
    "import json"
   ]
  },
  {
   "cell_type": "code",
   "execution_count": null,
   "metadata": {},
   "outputs": [],
   "source": [
    "# import API key\n",
    "from api_keys import geoapify_api_key"
   ]
  },
  {
   "cell_type": "code",
   "execution_count": null,
   "metadata": {},
   "outputs": [],
   "source": [
    "# load the WeatherPy_Database.csv file\n",
    "file_path = \"/Users/grahammarsh/Documents/GitHub/python-api-challenge/Final Analysis/output_data/WeatherPy_Database.csv\"\n",
    "weather_df = pd.read_csv(file_path)\n",
    "\n",
    "# display the header of the weather_df\n",
    "weather_df.head()"
   ]
  },
  {
   "cell_type": "markdown",
   "metadata": {},
   "source": [
    "Step 1: Create a map that displays a point for every city in the weather_df DataFrame. The size of the point represents the humidity level in each city."
   ]
  },
  {
   "cell_type": "code",
   "execution_count": null,
   "metadata": {},
   "outputs": [],
   "source": [
    "# a world map depicting humidity levels for each city\n",
    "weather_df.hvplot.points(\n",
    "    \"Lng\",\n",
    "    \"Lat\",\n",
    "    geo=True,\n",
    "    tiles=\"OSM\",\n",
    "    size=\"Humidity\",\n",
    "    frame_height=500,\n",
    "    frame_width=700,\n",
    "    color=\"City\"\n",
    ")\n",
    "\n"
   ]
  },
  {
   "cell_type": "markdown",
   "metadata": {},
   "source": [
    "Step 2: Narrow down the weather_df DataFrame to find your ideal weather condition"
   ]
  },
  {
   "cell_type": "code",
   "execution_count": null,
   "metadata": {},
   "outputs": [],
   "source": [
    "# filter the weather_df for cities with humidity levels less than 70%\n",
    "low_humidity_df = weather_df.loc[weather_df[\"Humidity\"] < 70]\n",
    "low_humidity_df.head()\n",
    "\n",
    "# drop ay rows with NaN values\n",
    "low_humidity_df = low_humidity_df.dropna()\n",
    "low_humidity_df.head()"
   ]
  },
  {
   "cell_type": "markdown",
   "metadata": {},
   "source": [
    "Step 3: Create a new DataFrame called hotel_df"
   ]
  },
  {
   "cell_type": "code",
   "execution_count": null,
   "metadata": {},
   "outputs": [],
   "source": [
    "# use the Pandas copy function to create a DataFrame called hotel_df to store the city, country, coordinates and humidity\n",
    "hotel_df = low_humidity_df[[\"City\", \"Country\", \"Lat\", \"Lng\", \"Humidity\"]].copy()\n",
    "\n",
    "# add a new column to the hotel_df called \"Hotel Name\"\n",
    "hotel_df[\"Hotel Name\"] = \"\"\n",
    "hotel_df.head()\n"
   ]
  },
  {
   "cell_type": "markdown",
   "metadata": {},
   "source": [
    "Step 4: For each city, use the Geoapify API to find the first hotel located within 10,000 meters of your coordinates."
   ]
  },
  {
   "cell_type": "code",
   "execution_count": null,
   "metadata": {},
   "outputs": [],
   "source": [
    "# define the search categories\n",
    "categories = \"accommodation.hotel\"\n",
    "\n",
    "# define the search radius\n",
    "radius = 10000\n",
    "\n",
    "# define the search limit\n",
    "limit = 1\n",
    "\n",
    "# define the parameters dictionary\n",
    "params = {\n",
    "    \"categories\":categories,\n",
    "    \"limit\":limit,\n",
    "    \"apiKey\":geoapify_api_key\n",
    "}\n",
    "\n",
    "# print a message to follow up the hotel search\n",
    "print(\"Starting hotel search\")\n",
    "\n",
    "# iterate through the hotel_df and retrieve the hotel name for each city\n",
    "for index, row in hotel_df.iterrows():\n",
    "    # get the latitude and longitude\n",
    "    lat = row[\"Lat\"]\n",
    "    lng = row[\"Lng\"]\n",
    "    \n",
    "    # add the latitude and longitude to the parameters dictionary\n",
    "    params[\"filter\"] = f\"circle:{lng},{lat},{radius}\"\n",
    "    params[\"bias\"] = f\"proximity:{lng},{lat}\"\n",
    "\n",
    "    # set the base URL for the Geoapify API\n",
    "    base_url = \"https://api.geoapify.com/v2/places\"\n",
    "\n",
    "    # run the API request using the parameters dictionary and convert the response to JSON\n",
    "    name_address = requests.get(base_url, params=params).json()\n",
    "    \n",
    "    # get the first hotel name from the response and store it in the hotel_df\n",
    "    try:\n",
    "        hotel_df.loc[index, \"Hotel Name\"] = name_address[\"features\"][0][\"properties\"][\"name\"]\n",
    "    except (IndexError, KeyError):\n",
    "        hotel_df.loc[index, \"Hotel Name\"] = \"Hotel not found\"\n",
    "\n",
    "    # log the search results\n",
    "    print(f\"{hotel_df.loc[index, 'City']} - nearest hotel: {hotel_df.loc[index, 'Hotel Name']}\")\n",
    "\n",
    "# display the hotel_df\n",
    "hotel_df\n"
   ]
  },
  {
   "cell_type": "markdown",
   "metadata": {},
   "source": [
    "Step 5: Add the hotel name and the country as additional information in the hover message for each city in the map."
   ]
  },
  {
   "cell_type": "code",
   "execution_count": null,
   "metadata": {},
   "outputs": [],
   "source": [
    "# configure the map plot\n",
    "hotel_df.hvplot.points(\n",
    "    \"Lng\",\n",
    "    \"Lat\",\n",
    "    geo=True,\n",
    "    tiles=\"OSM\",\n",
    "    frame_height=500,\n",
    "    frame_width=700,\n",
    "    color=\"Hotel Name\",\n",
    "    hover_cols=[\"City\", \"Country\", \"Hotel Name\"]\n",
    ")\n"
   ]
  }
 ],
 "metadata": {
  "kernelspec": {
   "display_name": ".venv",
   "language": "python",
   "name": "python3"
  },
  "language_info": {
   "codemirror_mode": {
    "name": "ipython",
    "version": 3
   },
   "file_extension": ".py",
   "mimetype": "text/x-python",
   "name": "python",
   "nbconvert_exporter": "python",
   "pygments_lexer": "ipython3",
   "version": "3.9.6"
  }
 },
 "nbformat": 4,
 "nbformat_minor": 2
}
